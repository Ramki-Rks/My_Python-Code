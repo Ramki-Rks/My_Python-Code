{
  "nbformat": 4,
  "nbformat_minor": 0,
  "metadata": {
    "colab": {
      "provenance": [],
      "authorship_tag": "ABX9TyMXi9fRVu8hsgpRQToR3RaN",
      "include_colab_link": true
    },
    "kernelspec": {
      "name": "python3",
      "display_name": "Python 3"
    },
    "language_info": {
      "name": "python"
    }
  },
  "cells": [
    {
      "cell_type": "markdown",
      "metadata": {
        "id": "view-in-github",
        "colab_type": "text"
      },
      "source": [
        "<a href=\"https://colab.research.google.com/github/Ramkirks/My_Python-Code/blob/main/practice_15_11_22.ipynb\" target=\"_parent\"><img src=\"https://colab.research.google.com/assets/colab-badge.svg\" alt=\"Open In Colab\"/></a>"
      ]
    },
    {
      "cell_type": "code",
      "execution_count": null,
      "metadata": {
        "colab": {
          "base_uri": "https://localhost:8080/"
        },
        "id": "SLx3BRySH3bF",
        "outputId": "0a029b03-de1b-4212-e8f5-6aafc68d74b1"
      },
      "outputs": [
        {
          "output_type": "stream",
          "name": "stdout",
          "text": [
            "0\n",
            "2\n",
            "4\n",
            "8\n",
            "8\n",
            "13\n"
          ]
        }
      ],
      "source": [
        "\n",
        "# Function to return max sum such that  \n",
        "# no two elements are adjacent \n",
        "def find_max_sum(arr): \n",
        "    incl = 0\n",
        "    excl = 0\n",
        "     \n",
        "    for i in arr: \n",
        "          \n",
        "        # Current max excluding i (No ternary in  \n",
        "        # Python) \n",
        "        new_excl = excl if excl>incl else incl \n",
        "         \n",
        "        # Current max including i \n",
        "        incl = excl + i \n",
        "        excl = new_excl \n",
        "        print(new_excl)\n",
        "      \n",
        "    # return max of incl and excl \n",
        "    return (excl if excl>incl else incl) \n",
        "  \n",
        "# Driver program to test above function \n",
        "arr = [2, 4, 6, 2, 5] \n",
        "arr1=[5,1,1,5]\n",
        "print(find_max_sum(arr)) "
      ]
    },
    {
      "cell_type": "code",
      "source": [
        "excl =5\n",
        "incl =6\n",
        "new_excl = excl if excl>incl else incl \n",
        "print(new_excl)"
      ],
      "metadata": {
        "colab": {
          "base_uri": "https://localhost:8080/"
        },
        "id": "sHz2qkfLH_CZ",
        "outputId": "578bda14-efee-4749-fc7b-04f61a40b6d2"
      },
      "execution_count": null,
      "outputs": [
        {
          "output_type": "stream",
          "name": "stdout",
          "text": [
            "6\n"
          ]
        }
      ]
    },
    {
      "cell_type": "code",
      "source": [],
      "metadata": {
        "id": "QROd4bkfJ2uh"
      },
      "execution_count": null,
      "outputs": []
    }
  ]
}