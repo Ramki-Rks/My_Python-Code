{
  "nbformat": 4,
  "nbformat_minor": 0,
  "metadata": {
    "colab": {
      "provenance": [],
      "authorship_tag": "ABX9TyPznDso1H7TOzFH8IGKvqPO",
      "include_colab_link": true
    },
    "kernelspec": {
      "name": "python3",
      "display_name": "Python 3"
    },
    "language_info": {
      "name": "python"
    }
  },
  "cells": [
    {
      "cell_type": "markdown",
      "metadata": {
        "id": "view-in-github",
        "colab_type": "text"
      },
      "source": [
        "<a href=\"https://colab.research.google.com/github/Ramki-Rks/My_Python-Code/blob/main/small_problem.ipynb\" target=\"_parent\"><img src=\"https://colab.research.google.com/assets/colab-badge.svg\" alt=\"Open In Colab\"/></a>"
      ]
    },
    {
      "cell_type": "code",
      "execution_count": 1,
      "metadata": {
        "colab": {
          "base_uri": "https://localhost:8080/"
        },
        "id": "NXK9RRhUlyK0",
        "outputId": "d9d708a1-d054-4243-8a80-ddc2e1dd02ce"
      },
      "outputs": [
        {
          "output_type": "execute_result",
          "data": {
            "text/plain": [
              "{'fri', 'mon', 'thurs', 'tues', 'wednes'}"
            ]
          },
          "metadata": {},
          "execution_count": 1
        }
      ],
      "source": [
        "sf=('monday','tuesday', 'wednesday', 'thursday','friday')\n",
        "first_three=set([gg[:-3] for gg in sf])\n",
        "first_three"
      ]
    },
    {
      "cell_type": "code",
      "source": [
        "def mean_median(raja):\n",
        "  '''write code of both mean and mean caluculation'''\n",
        "  mean=(sum(raja))/len(raja)\n",
        "  print(f'the mean value of given number is {mean}')\n",
        "  sorted_heights=sorted(raja)\n",
        "  print(sorted_heights)\n",
        "  if len(raja)%2==0:\n",
        "    median=(sorted_heights[int(len(raja)/2)-1] + sorted_heights[int(len(raja)/2)])/2\n",
        "    print(f'the median value of given number is {median}')\n",
        "  else:\n",
        "    median=sorted_heights[int((len(raja)+1)/2-1)]\n",
        "    print(f'the median value of given number is {median}')"
      ],
      "metadata": {
        "id": "aJBkMJSKl_FA"
      },
      "execution_count": 2,
      "outputs": []
    },
    {
      "cell_type": "code",
      "source": [
        "heights=[145,125,179,198,136,165]"
      ],
      "metadata": {
        "id": "pqW_nyQomCPf"
      },
      "execution_count": 3,
      "outputs": []
    },
    {
      "cell_type": "code",
      "source": [
        "mean_median(heights)"
      ],
      "metadata": {
        "colab": {
          "base_uri": "https://localhost:8080/"
        },
        "id": "7Ev6MBGymEA6",
        "outputId": "25cb215e-f612-4b5e-b569-315dee90a003"
      },
      "execution_count": 4,
      "outputs": [
        {
          "output_type": "stream",
          "name": "stdout",
          "text": [
            "the mean value of given number is 158.0\n",
            "[125, 136, 145, 165, 179, 198]\n",
            "the median value of given number is 155.0\n"
          ]
        }
      ]
    }
  ]
}