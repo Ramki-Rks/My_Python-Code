{
  "nbformat": 4,
  "nbformat_minor": 0,
  "metadata": {
    "colab": {
      "provenance": [],
      "authorship_tag": "ABX9TyOMmhaG42FqoUOjUu4oPEWC",
      "include_colab_link": true
    },
    "kernelspec": {
      "name": "python3",
      "display_name": "Python 3"
    },
    "language_info": {
      "name": "python"
    }
  },
  "cells": [
    {
      "cell_type": "markdown",
      "metadata": {
        "id": "view-in-github",
        "colab_type": "text"
      },
      "source": [
        "<a href=\"https://colab.research.google.com/github/Ramkirks/My_Python-Code/blob/main/Untitled2.ipynb\" target=\"_parent\"><img src=\"https://colab.research.google.com/assets/colab-badge.svg\" alt=\"Open In Colab\"/></a>"
      ]
    },
    {
      "cell_type": "code",
      "execution_count": 3,
      "metadata": {
        "colab": {
          "base_uri": "https://localhost:8080/"
        },
        "id": "F3JrSGAJpIIu",
        "outputId": "fcd521df-bb5b-4c64-cdb3-2c6727d82ef9"
      },
      "outputs": [
        {
          "output_type": "execute_result",
          "data": {
            "text/plain": [
              "3.14159"
            ]
          },
          "metadata": {},
          "execution_count": 3
        }
      ],
      "source": [
        "import math\n",
        "round(math.pi,5)"
      ]
    },
    {
      "cell_type": "code",
      "source": [
        "from math import pi"
      ],
      "metadata": {
        "id": "gqvruGcnpLZw"
      },
      "execution_count": 4,
      "outputs": []
    },
    {
      "cell_type": "code",
      "source": [
        "pi*35"
      ],
      "metadata": {
        "colab": {
          "base_uri": "https://localhost:8080/"
        },
        "id": "ifTQPipIpZcG",
        "outputId": "02d7016c-e509-4a6f-864c-ba57e32a47a9"
      },
      "execution_count": 5,
      "outputs": [
        {
          "output_type": "execute_result",
          "data": {
            "text/plain": [
              "109.95574287564276"
            ]
          },
          "metadata": {},
          "execution_count": 5
        }
      ]
    },
    {
      "cell_type": "code",
      "source": [
        "class Computer:\n",
        "\n",
        "  def __init__(self):\n",
        "    print(\"in init\")\n",
        "    \n",
        "\n",
        "  def config (self):\n",
        "    print(\"1TB 16GB ram, i5 processor\")"
      ],
      "metadata": {
        "id": "ESb-UUkbpcKl"
      },
      "execution_count": 13,
      "outputs": []
    },
    {
      "cell_type": "code",
      "source": [
        "comp=Computer()\n",
        "comp.config()"
      ],
      "metadata": {
        "colab": {
          "base_uri": "https://localhost:8080/"
        },
        "id": "FRxf2DyYs0sd",
        "outputId": "44a7231a-8f57-4e2c-a11a-5ab051f47320"
      },
      "execution_count": 14,
      "outputs": [
        {
          "output_type": "stream",
          "name": "stdout",
          "text": [
            "1TB 16GB ram, i5 processor\n"
          ]
        }
      ]
    },
    {
      "cell_type": "code",
      "source": [
        "class computer:\n",
        "\n",
        "  def __init__(self):\n",
        "    self.age=35\n",
        "    self.name=\"BMW\"\n",
        "\n",
        "  def car(self):\n",
        "    self.color=\"white\"\n",
        "    self.price=75\n"
      ],
      "metadata": {
        "id": "U6FmUFhms5kr"
      },
      "execution_count": 21,
      "outputs": []
    },
    {
      "cell_type": "code",
      "source": [
        "comp=computer()"
      ],
      "metadata": {
        "id": "xSahUoVlUKF1"
      },
      "execution_count": 17,
      "outputs": []
    },
    {
      "cell_type": "code",
      "source": [
        "comp.car()"
      ],
      "metadata": {
        "id": "Xq2vKfREUPXE"
      },
      "execution_count": 18,
      "outputs": []
    },
    {
      "cell_type": "code",
      "source": [
        "comp.name"
      ],
      "metadata": {
        "colab": {
          "base_uri": "https://localhost:8080/",
          "height": 35
        },
        "id": "gCqXWtIBXEYS",
        "outputId": "c220a036-1641-4b54-aa0d-079aac7a3218"
      },
      "execution_count": 23,
      "outputs": [
        {
          "output_type": "execute_result",
          "data": {
            "text/plain": [
              "'BMW'"
            ],
            "application/vnd.google.colaboratory.intrinsic+json": {
              "type": "string"
            }
          },
          "metadata": {},
          "execution_count": 23
        }
      ]
    },
    {
      "cell_type": "code",
      "source": [
        "comp.color"
      ],
      "metadata": {
        "colab": {
          "base_uri": "https://localhost:8080/",
          "height": 35
        },
        "id": "EnkirJ4CUkxm",
        "outputId": "357dbb55-f90e-4330-ab14-89f36357cf25"
      },
      "execution_count": 24,
      "outputs": [
        {
          "output_type": "execute_result",
          "data": {
            "text/plain": [
              "'white'"
            ],
            "application/vnd.google.colaboratory.intrinsic+json": {
              "type": "string"
            }
          },
          "metadata": {},
          "execution_count": 24
        }
      ]
    },
    {
      "cell_type": "code",
      "source": [
        "class Average:\n",
        "\n",
        "  maximum=85\n",
        "\n",
        "  def __init__(self,m1,m2,m3):\n",
        "    self.m1=m1\n",
        "    self.m2=m2\n",
        "    self.m3=m3\n",
        "\n",
        "  def avg(self):\n",
        "    return (self.m1 + self.m2 +self.m3+self.maximum)/3\n",
        "\n",
        "  def get_m1(self):\n",
        "    return self.m1\n",
        "  \n",
        "  def set_m1(self,value):\n",
        "    self.m1=value\n",
        "\n",
        "  @classmethod\n",
        "  def info(cls):\n",
        "    return cls.maximum"
      ],
      "metadata": {
        "id": "NlTYIKeuW_AN"
      },
      "execution_count": 52,
      "outputs": []
    },
    {
      "cell_type": "code",
      "source": [
        "av= Average(45,88,66)"
      ],
      "metadata": {
        "id": "xSyVm5u9XpTp"
      },
      "execution_count": 54,
      "outputs": []
    },
    {
      "cell_type": "code",
      "source": [
        "print(Average.info())"
      ],
      "metadata": {
        "colab": {
          "base_uri": "https://localhost:8080/"
        },
        "id": "RbMdqqO6bZmB",
        "outputId": "5d4a8db3-69f1-4edb-e3b1-220a781eadbb"
      },
      "execution_count": 57,
      "outputs": [
        {
          "output_type": "stream",
          "name": "stdout",
          "text": [
            "85\n"
          ]
        }
      ]
    },
    {
      "cell_type": "code",
      "source": [
        "av.set_m1(12)"
      ],
      "metadata": {
        "id": "wVtK0YkDYX-l"
      },
      "execution_count": 59,
      "outputs": []
    },
    {
      "cell_type": "code",
      "source": [
        "av.avg()"
      ],
      "metadata": {
        "colab": {
          "base_uri": "https://localhost:8080/"
        },
        "id": "NCElKA9JXsIX",
        "outputId": "2ddcf53c-df89-4e11-9fd3-6cfa2ee39140"
      },
      "execution_count": 60,
      "outputs": [
        {
          "output_type": "execute_result",
          "data": {
            "text/plain": [
              "83.66666666666667"
            ]
          },
          "metadata": {},
          "execution_count": 60
        }
      ]
    },
    {
      "cell_type": "code",
      "source": [
        "av.get_m1()"
      ],
      "metadata": {
        "colab": {
          "base_uri": "https://localhost:8080/"
        },
        "id": "8vkOxGW-XwqU",
        "outputId": "e95755ec-2689-418f-f2c3-738e0177676d"
      },
      "execution_count": 61,
      "outputs": [
        {
          "output_type": "execute_result",
          "data": {
            "text/plain": [
              "12"
            ]
          },
          "metadata": {},
          "execution_count": 61
        }
      ]
    },
    {
      "cell_type": "code",
      "source": [
        "class student:\n",
        "\n",
        "  def __init__(self, name, rollno):\n",
        "    self.name=name\n",
        "    self.rollno=rollno\n",
        "    self.lap=self.Laptop()\n",
        "\n",
        "  def show(self):\n",
        "    return(self.name, self.rollno)\n",
        "    self.Laptop.show()\n",
        "\n",
        "\n",
        "  class Laptop:\n",
        "\n",
        "    def __init__(self):\n",
        "      self.brand=\"HP\"\n",
        "      self.capacity=\"1TB\"\n",
        "      self.price=1000\n",
        "\n",
        "    def show(self):\n",
        "      return (self.brand, self.capacity, self.price)"
      ],
      "metadata": {
        "id": "zhZWZ-lQYkHa"
      },
      "execution_count": 75,
      "outputs": []
    },
    {
      "cell_type": "code",
      "source": [
        "s1=student(\"jony\",5)"
      ],
      "metadata": {
        "id": "RPjXbpGKf3bN"
      },
      "execution_count": 77,
      "outputs": []
    },
    {
      "cell_type": "code",
      "source": [
        "lap=student.Laptop()"
      ],
      "metadata": {
        "id": "LWpWNHHzgs6R"
      },
      "execution_count": 70,
      "outputs": []
    },
    {
      "cell_type": "code",
      "source": [
        "s1.show()"
      ],
      "metadata": {
        "colab": {
          "base_uri": "https://localhost:8080/"
        },
        "id": "_krNxILohCjB",
        "outputId": "b933e817-8962-41cc-adf1-d670e15c9af6"
      },
      "execution_count": 78,
      "outputs": [
        {
          "output_type": "execute_result",
          "data": {
            "text/plain": [
              "('jony', 5)"
            ]
          },
          "metadata": {},
          "execution_count": 78
        }
      ]
    },
    {
      "cell_type": "code",
      "source": [
        "lap.show()"
      ],
      "metadata": {
        "colab": {
          "base_uri": "https://localhost:8080/"
        },
        "id": "AOd27WsFgybY",
        "outputId": "2cebe7e8-ca18-43f2-aeb8-70a9c5a7c256"
      },
      "execution_count": 73,
      "outputs": [
        {
          "output_type": "execute_result",
          "data": {
            "text/plain": [
              "('HP', '1TB', 1000)"
            ]
          },
          "metadata": {},
          "execution_count": 73
        }
      ]
    },
    {
      "cell_type": "code",
      "source": [
        "s1.Laptop.show"
      ],
      "metadata": {
        "colab": {
          "base_uri": "https://localhost:8080/"
        },
        "id": "9rOrChh5gcTr",
        "outputId": "35ea6385-5760-4766-cfc7-38eb32e610e2"
      },
      "execution_count": 69,
      "outputs": [
        {
          "output_type": "execute_result",
          "data": {
            "text/plain": [
              "<function __main__.student.Laptop.show(self)>"
            ]
          },
          "metadata": {},
          "execution_count": 69
        }
      ]
    },
    {
      "cell_type": "markdown",
      "source": [
        "#Inheritance"
      ],
      "metadata": {
        "id": "_98OFBhNlc_y"
      }
    },
    {
      "cell_type": "code",
      "source": [
        "class A:\n",
        "  \n",
        "  def feature1(self):\n",
        "    return (\"this is feature 1\")\n",
        "\n",
        "  def feature2(self):\n",
        "    return (\"this is feature 2\")\n",
        "\n",
        "class B(A):\n",
        "  \n",
        "  def feature3(self):\n",
        "    return (\"this is feature 3\")\n",
        "\n",
        "  def feature4(self):\n",
        "    return (\"this is feature 4\")"
      ],
      "metadata": {
        "id": "djW41HaTgflr"
      },
      "execution_count": 80,
      "outputs": []
    },
    {
      "cell_type": "code",
      "source": [
        "s=B()\n"
      ],
      "metadata": {
        "id": "jZhoBCIvlxZ8"
      },
      "execution_count": 81,
      "outputs": []
    },
    {
      "cell_type": "code",
      "source": [
        "s.feature1()"
      ],
      "metadata": {
        "colab": {
          "base_uri": "https://localhost:8080/",
          "height": 35
        },
        "id": "I24fjhGHl7C1",
        "outputId": "b5a56dac-8f90-4e59-df3e-9d47e88d9d44"
      },
      "execution_count": 83,
      "outputs": [
        {
          "output_type": "execute_result",
          "data": {
            "text/plain": [
              "'this is feature 1'"
            ],
            "application/vnd.google.colaboratory.intrinsic+json": {
              "type": "string"
            }
          },
          "metadata": {},
          "execution_count": 83
        }
      ]
    },
    {
      "cell_type": "code",
      "source": [
        "s1=\"rama\"\n",
        "s2=\"krishnan\"\n",
        "s1+ \" \" +s2"
      ],
      "metadata": {
        "colab": {
          "base_uri": "https://localhost:8080/",
          "height": 35
        },
        "id": "iYVMqMa5l9EA",
        "outputId": "5465b3d8-b498-4b1c-8fbe-39c5925162f5"
      },
      "execution_count": 84,
      "outputs": [
        {
          "output_type": "execute_result",
          "data": {
            "text/plain": [
              "'rama krishnan'"
            ],
            "application/vnd.google.colaboratory.intrinsic+json": {
              "type": "string"
            }
          },
          "metadata": {},
          "execution_count": 84
        }
      ]
    },
    {
      "cell_type": "code",
      "source": [
        "def average(list_):\n",
        "\n",
        "  i =0\n",
        "  output1=[]\n",
        "  output2=[]\n",
        "  for j in list_:\n",
        "    if i==0 or i%2 ==0:\n",
        "      output1.append(j)\n",
        "      i+=1\n",
        "\n",
        "    else:\n",
        "      output2.append(j)\n",
        "      i+=1\n",
        "\n",
        "  return print([sum(output1),sum(output2)])\n",
        "\n"
      ],
      "metadata": {
        "id": "v6HW-JM_pQc3"
      },
      "execution_count": 88,
      "outputs": []
    },
    {
      "cell_type": "code",
      "source": [
        "average([50,60,60,45,70])"
      ],
      "metadata": {
        "colab": {
          "base_uri": "https://localhost:8080/"
        },
        "id": "0BjJXVfTvjDP",
        "outputId": "bd081ae3-011d-4c7c-ba31-0ad5c92be922"
      },
      "execution_count": 89,
      "outputs": [
        {
          "output_type": "stream",
          "name": "stdout",
          "text": [
            "[180, 105]\n"
          ]
        }
      ]
    },
    {
      "cell_type": "code",
      "source": [],
      "metadata": {
        "id": "79gPUjlZvwzd"
      },
      "execution_count": null,
      "outputs": []
    }
  ]
}