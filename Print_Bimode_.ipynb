{
  "nbformat": 4,
  "nbformat_minor": 0,
  "metadata": {
    "colab": {
      "name": "Print Bimode .ipynb",
      "provenance": [],
      "collapsed_sections": [],
      "include_colab_link": true
    },
    "kernelspec": {
      "name": "python3",
      "display_name": "Python 3"
    }
  },
  "cells": [
    {
      "cell_type": "markdown",
      "metadata": {
        "id": "view-in-github",
        "colab_type": "text"
      },
      "source": [
        "<a href=\"https://colab.research.google.com/github/Ramki-Rks/My_Python-Code/blob/main/Print_Bimode_.ipynb\" target=\"_parent\"><img src=\"https://colab.research.google.com/assets/colab-badge.svg\" alt=\"Open In Colab\"/></a>"
      ]
    },
    {
      "cell_type": "markdown",
      "metadata": {
        "id": "a5m1VFY29bPV"
      },
      "source": [
        "# Problem 1\n",
        "\n",
        "Write a function which calculates the mode of a list of numbers. If there are two modes in the dataset, it should return both."
      ]
    },
    {
      "cell_type": "code",
      "metadata": {
        "id": "ZQDOGM_j9pOw"
      },
      "source": [
        "import numpy as np\n",
        "import pandas as pd"
      ],
      "execution_count": null,
      "outputs": []
    },
    {
      "cell_type": "code",
      "metadata": {
        "id": "oxzy_M4a9qhj"
      },
      "source": [
        "\n",
        "def finding_Bimode(datas):\n",
        "  unique_number, freq=np.unique(np.array(datas), return_counts=True)\n",
        "  for i in freq:\n",
        "    if np.max(freq)==i:\n",
        "      mode_index = np.where(np.max(freq)==freq)\n",
        "      mode=(unique_number[mode_index])\n",
        "      print(mode)\n",
        "      break"
      ],
      "execution_count": null,
      "outputs": []
    },
    {
      "cell_type": "code",
      "metadata": {
        "id": "i7ILDPdO9qZ3",
        "colab": {
          "base_uri": "https://localhost:8080/"
        },
        "outputId": "d03fc25f-998d-4cdb-be1a-1416991cfdcb"
      },
      "source": [
        "finding_Bimode([5,5,5,5,6,6,6,6,2,2,2,2,4])"
      ],
      "execution_count": null,
      "outputs": [
        {
          "output_type": "stream",
          "name": "stdout",
          "text": [
            "[2 5 6]\n"
          ]
        }
      ]
    }
  ]
}