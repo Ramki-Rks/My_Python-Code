{
  "nbformat": 4,
  "nbformat_minor": 0,
  "metadata": {
    "colab": {
      "provenance": [],
      "authorship_tag": "ABX9TyPDCVroarM4X8mWSnFZ2rrI",
      "include_colab_link": true
    },
    "kernelspec": {
      "name": "python3",
      "display_name": "Python 3"
    },
    "language_info": {
      "name": "python"
    }
  },
  "cells": [
    {
      "cell_type": "markdown",
      "metadata": {
        "id": "view-in-github",
        "colab_type": "text"
      },
      "source": [
        "<a href=\"https://colab.research.google.com/github/Ramki-Rks/My_Python-Code/blob/main/Cartesian_product_of_two_set_nested_for_loop.ipynb\" target=\"_parent\"><img src=\"https://colab.research.google.com/assets/colab-badge.svg\" alt=\"Open In Colab\"/></a>"
      ]
    },
    {
      "cell_type": "code",
      "execution_count": 1,
      "metadata": {
        "colab": {
          "base_uri": "https://localhost:8080/"
        },
        "id": "PjjvPFOBvxso",
        "outputId": "f2978084-5ab3-4a29-dac3-056b899dc2ea"
      },
      "outputs": [
        {
          "output_type": "stream",
          "name": "stdout",
          "text": [
            "5 2 8 6 4 3\n",
            "5 4 7\n",
            "(5, 5) (5, 4) (5, 7) (2, 5) (2, 4) (2, 7) (8, 5) (8, 4) (8, 7) (6, 5) (6, 4) (6, 7) (4, 5) (4, 4) (4, 7) (3, 5) (3, 4) (3, 7)\n"
          ]
        }
      ],
      "source": [
        "'''This tool computes the cartesian product of input iterables.\n",
        "It is equivalent to nested for-loops.\n",
        "For example, product(A, B) returns the same as ((x,y) for x in A for y in B).'''\n",
        "\n",
        "from itertools import product\n",
        "list_A=input()\n",
        "stored_A=[int(i) for i in list_A.split()]\n",
        "list_B=input()\n",
        "stored_B=[int(i) for i in list_B.split()]\n",
        "mm=list(product(stored_A,stored_B))\n",
        "print(' '.join(str(i) for i in mm))"
      ]
    }
  ]
}