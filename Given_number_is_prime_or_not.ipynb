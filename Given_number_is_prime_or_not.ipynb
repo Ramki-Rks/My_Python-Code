{
  "nbformat": 4,
  "nbformat_minor": 0,
  "metadata": {
    "colab": {
      "provenance": [],
      "authorship_tag": "ABX9TyP456pf3n/ELMTeBxlGdPkq",
      "include_colab_link": true
    },
    "kernelspec": {
      "name": "python3",
      "display_name": "Python 3"
    },
    "language_info": {
      "name": "python"
    }
  },
  "cells": [
    {
      "cell_type": "markdown",
      "metadata": {
        "id": "view-in-github",
        "colab_type": "text"
      },
      "source": [
        "<a href=\"https://colab.research.google.com/github/Ramki-Rks/My_Python-Code/blob/main/Given_number_is_prime_or_not.ipynb\" target=\"_parent\"><img src=\"https://colab.research.google.com/assets/colab-badge.svg\" alt=\"Open In Colab\"/></a>"
      ]
    },
    {
      "cell_type": "code",
      "execution_count": 3,
      "metadata": {
        "colab": {
          "base_uri": "https://localhost:8080/"
        },
        "id": "rZYyT19yUssZ",
        "outputId": "fd1f1a1c-9164-4407-f9de-d8cefcd4929b"
      },
      "outputs": [
        {
          "output_type": "stream",
          "name": "stdout",
          "text": [
            "10\n",
            "10 is not a prime number\n"
          ]
        }
      ],
      "source": [
        "number=int(input())\n",
        "if number <1:\n",
        "  print(f'{number} is not a prime number')\n",
        "else:\n",
        "  for i in range(2,number):\n",
        "    if number%i==0:\n",
        "      print(f'{number} is not a prime number')\n",
        "      break\n",
        "  else:\n",
        "      print(f'The given number {number} is prime number')"
      ]
    },
    {
      "cell_type": "code",
      "source": [],
      "metadata": {
        "id": "I3InNyKYVero"
      },
      "execution_count": null,
      "outputs": []
    }
  ]
}