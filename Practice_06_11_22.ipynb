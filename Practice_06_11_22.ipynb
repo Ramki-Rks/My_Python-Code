{
  "nbformat": 4,
  "nbformat_minor": 0,
  "metadata": {
    "colab": {
      "provenance": [],
      "authorship_tag": "ABX9TyOqRWWXuPbIIJmoVg5w3X/f",
      "include_colab_link": true
    },
    "kernelspec": {
      "name": "python3",
      "display_name": "Python 3"
    },
    "language_info": {
      "name": "python"
    }
  },
  "cells": [
    {
      "cell_type": "markdown",
      "metadata": {
        "id": "view-in-github",
        "colab_type": "text"
      },
      "source": [
        "<a href=\"https://colab.research.google.com/github/Ramkirks/My_Python-Code/blob/main/Practice_06_11_22.ipynb\" target=\"_parent\"><img src=\"https://colab.research.google.com/assets/colab-badge.svg\" alt=\"Open In Colab\"/></a>"
      ]
    },
    {
      "cell_type": "markdown",
      "source": [
        "**print Full Triangle Pyramid pattern**"
      ],
      "metadata": {
        "id": "omQhDgQZtbga"
      }
    },
    {
      "cell_type": "code",
      "execution_count": 7,
      "metadata": {
        "id": "55PstmzdzJ-S",
        "colab": {
          "base_uri": "https://localhost:8080/"
        },
        "outputId": "29a99b41-79d4-43bb-b14e-9ef8f5bf18c2"
      },
      "outputs": [
        {
          "output_type": "stream",
          "name": "stdout",
          "text": [
            "Enter the number of rows: 8\n",
            "       * \n",
            "      * * \n",
            "     * * * \n",
            "    * * * * \n",
            "   * * * * * \n",
            "  * * * * * * \n",
            " * * * * * * * \n",
            "* * * * * * * * \n"
          ]
        }
      ],
      "source": [
        "def pattern(rows):\n",
        "  space =rows-1\n",
        "  for i in range (0,rows):\n",
        "    for j in range(0,space):\n",
        "      print(end=\" \")\n",
        "    space =space- 1\n",
        "    for k in range (0,i+1):\n",
        "      print(\"*\",end=\" \")\n",
        "    print()\n",
        "\n",
        "\n",
        "rows =int(input(\"Enter the number of rows: \"))\n",
        "pattern(rows)"
      ]
    },
    {
      "cell_type": "code",
      "source": [
        "for i in range(5,0,-1):\n",
        "  print(i)\n",
        "  print()"
      ],
      "metadata": {
        "colab": {
          "base_uri": "https://localhost:8080/"
        },
        "id": "ng4DVdF5uXvp",
        "outputId": "69726d8d-d108-48a1-b335-e577bd9ad4be"
      },
      "execution_count": 9,
      "outputs": [
        {
          "output_type": "stream",
          "name": "stdout",
          "text": [
            "5\n",
            "\n",
            "4\n",
            "\n",
            "3\n",
            "\n",
            "2\n",
            "\n",
            "1\n",
            "\n"
          ]
        }
      ]
    },
    {
      "cell_type": "code",
      "source": [
        "def pattern1(n):\n",
        "  for row in range(0,n):\n",
        "    for col in range(0,n):\n",
        "      if row==0 or col == n-1 or row == col:\n",
        "        print(\"*\", end= \"\")\n",
        "      else:\n",
        "        print(end= \" \")\n",
        "    print()\n",
        "\n",
        "\n",
        "n=int(input(\"Enter the number: \"))\n",
        "pattern1(n)"
      ],
      "metadata": {
        "colab": {
          "base_uri": "https://localhost:8080/"
        },
        "id": "uIhAWlSYu1i9",
        "outputId": "5e9708af-3105-45bb-83c7-d155c70b1f11"
      },
      "execution_count": 12,
      "outputs": [
        {
          "output_type": "stream",
          "name": "stdout",
          "text": [
            "Enter the number: 5\n",
            "*****\n",
            " *  *\n",
            "  * *\n",
            "   **\n",
            "    *\n"
          ]
        }
      ]
    },
    {
      "cell_type": "code",
      "source": [],
      "metadata": {
        "id": "O6ETRRa66exo"
      },
      "execution_count": null,
      "outputs": []
    }
  ]
}