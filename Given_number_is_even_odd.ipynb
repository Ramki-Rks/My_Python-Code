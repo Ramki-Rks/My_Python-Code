{
  "nbformat": 4,
  "nbformat_minor": 0,
  "metadata": {
    "colab": {
      "provenance": [],
      "authorship_tag": "ABX9TyPHfsjrXu0C3GH+TKLKLWC2",
      "include_colab_link": true
    },
    "kernelspec": {
      "name": "python3",
      "display_name": "Python 3"
    },
    "language_info": {
      "name": "python"
    }
  },
  "cells": [
    {
      "cell_type": "markdown",
      "metadata": {
        "id": "view-in-github",
        "colab_type": "text"
      },
      "source": [
        "<a href=\"https://colab.research.google.com/github/Ramki-Rks/My_Python-Code/blob/main/Given_number_is_even_odd.ipynb\" target=\"_parent\"><img src=\"https://colab.research.google.com/assets/colab-badge.svg\" alt=\"Open In Colab\"/></a>"
      ]
    },
    {
      "cell_type": "code",
      "execution_count": 3,
      "metadata": {
        "id": "Ep2E-1YtA0ik"
      },
      "outputs": [],
      "source": [
        "def check_even_or_odd(num):\n",
        "  '''\n",
        "  This function checks whether a number is odd or even and then returns the corresponding string\n",
        "  '''\n",
        "  \n",
        "  \n",
        "  # Step 1 : Check if the number is even. If it is return 'even'\n",
        "  if num%2 == 0:\n",
        "    return (f'Given number  {num}is even')\n",
        "\n",
        "  # Step 2 : Else just return 'odd'\n",
        "  \n",
        "  return (f'Given number {num}  is Odd')\n",
        "\n"
      ]
    },
    {
      "cell_type": "code",
      "source": [
        "check_even_or_odd(25)"
      ],
      "metadata": {
        "colab": {
          "base_uri": "https://localhost:8080/",
          "height": 35
        },
        "id": "Ds0DxNHbBMQE",
        "outputId": "da07b06c-aa53-4e4f-b039-f215b4e625d1"
      },
      "execution_count": 4,
      "outputs": [
        {
          "output_type": "execute_result",
          "data": {
            "text/plain": [
              "'Given number 25  is Odd'"
            ],
            "application/vnd.google.colaboratory.intrinsic+json": {
              "type": "string"
            }
          },
          "metadata": {},
          "execution_count": 4
        }
      ]
    },
    {
      "cell_type": "code",
      "source": [],
      "metadata": {
        "id": "0_dBzL8yBPz_"
      },
      "execution_count": null,
      "outputs": []
    }
  ]
}