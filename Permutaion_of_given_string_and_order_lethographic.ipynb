{
  "nbformat": 4,
  "nbformat_minor": 0,
  "metadata": {
    "colab": {
      "provenance": [],
      "authorship_tag": "ABX9TyPBHER2X+LZbmQ12nWz9BDG",
      "include_colab_link": true
    },
    "kernelspec": {
      "name": "python3",
      "display_name": "Python 3"
    },
    "language_info": {
      "name": "python"
    }
  },
  "cells": [
    {
      "cell_type": "markdown",
      "metadata": {
        "id": "view-in-github",
        "colab_type": "text"
      },
      "source": [
        "<a href=\"https://colab.research.google.com/github/Ramki-Rks/My_Python-Code/blob/main/Permutaion_of_given_string_and_order_lethographic.ipynb\" target=\"_parent\"><img src=\"https://colab.research.google.com/assets/colab-badge.svg\" alt=\"Open In Colab\"/></a>"
      ]
    },
    {
      "cell_type": "code",
      "execution_count": 2,
      "metadata": {
        "colab": {
          "base_uri": "https://localhost:8080/"
        },
        "id": "rVomv0GQWKtv",
        "outputId": "1c147f3c-8086-4d4a-a9d0-6c7414e305f0"
      },
      "outputs": [
        {
          "output_type": "stream",
          "name": "stdout",
          "text": [
            "STRING 2\n",
            "GI\n",
            "GN\n",
            "GR\n",
            "GS\n",
            "GT\n",
            "IG\n",
            "IN\n",
            "IR\n",
            "IS\n",
            "IT\n",
            "NG\n",
            "NI\n",
            "NR\n",
            "NS\n",
            "NT\n",
            "RG\n",
            "RI\n",
            "RN\n",
            "RS\n",
            "RT\n",
            "SG\n",
            "SI\n",
            "SN\n",
            "SR\n",
            "ST\n",
            "TG\n",
            "TI\n",
            "TN\n",
            "TR\n",
            "TS\n"
          ]
        }
      ],
      "source": [
        "'''You are given a string S.\n",
        "Your task is to print all possible permutations of size k of the string in lexicographic sorted order.'''\n",
        "\n",
        "from itertools import permutations\n",
        "string =input()\n",
        "store=string.split()\n",
        "list_=(sorted(list(permutations(store[0],int(store[1])))))\n",
        "result=[]\n",
        "\n",
        "for i in list_:\n",
        " result.append(i[0] + i[1])\n",
        "\n",
        "for k in result:\n",
        "  print(k)\n"
      ]
    },
    {
      "cell_type": "code",
      "source": [
        "list_"
      ],
      "metadata": {
        "colab": {
          "base_uri": "https://localhost:8080/"
        },
        "id": "K6BXD34XWlcX",
        "outputId": "3d338503-ceb8-479a-dcc2-1d7f9682554b"
      },
      "execution_count": 3,
      "outputs": [
        {
          "output_type": "execute_result",
          "data": {
            "text/plain": [
              "[('G', 'I'),\n",
              " ('G', 'N'),\n",
              " ('G', 'R'),\n",
              " ('G', 'S'),\n",
              " ('G', 'T'),\n",
              " ('I', 'G'),\n",
              " ('I', 'N'),\n",
              " ('I', 'R'),\n",
              " ('I', 'S'),\n",
              " ('I', 'T'),\n",
              " ('N', 'G'),\n",
              " ('N', 'I'),\n",
              " ('N', 'R'),\n",
              " ('N', 'S'),\n",
              " ('N', 'T'),\n",
              " ('R', 'G'),\n",
              " ('R', 'I'),\n",
              " ('R', 'N'),\n",
              " ('R', 'S'),\n",
              " ('R', 'T'),\n",
              " ('S', 'G'),\n",
              " ('S', 'I'),\n",
              " ('S', 'N'),\n",
              " ('S', 'R'),\n",
              " ('S', 'T'),\n",
              " ('T', 'G'),\n",
              " ('T', 'I'),\n",
              " ('T', 'N'),\n",
              " ('T', 'R'),\n",
              " ('T', 'S')]"
            ]
          },
          "metadata": {},
          "execution_count": 3
        }
      ]
    }
  ]
}