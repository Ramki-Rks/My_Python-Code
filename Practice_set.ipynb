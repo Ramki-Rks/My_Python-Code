{
  "nbformat": 4,
  "nbformat_minor": 0,
  "metadata": {
    "colab": {
      "provenance": [],
      "collapsed_sections": [],
      "authorship_tag": "ABX9TyO6yHqt8H9ZYTmcZqmh5ZT1",
      "include_colab_link": true
    },
    "kernelspec": {
      "name": "python3",
      "display_name": "Python 3"
    },
    "language_info": {
      "name": "python"
    }
  },
  "cells": [
    {
      "cell_type": "markdown",
      "metadata": {
        "id": "view-in-github",
        "colab_type": "text"
      },
      "source": [
        "<a href=\"https://colab.research.google.com/github/Ramkirks/My_Python-Code/blob/main/Practice_set.ipynb\" target=\"_parent\"><img src=\"https://colab.research.google.com/assets/colab-badge.svg\" alt=\"Open In Colab\"/></a>"
      ]
    },
    {
      "cell_type": "markdown",
      "source": [
        "#Python program to convert the temperature in degree centigrade to Fahrenheit"
      ],
      "metadata": {
        "id": "dhKlyZvASRW0"
      }
    },
    {
      "cell_type": "code",
      "execution_count": 3,
      "metadata": {
        "colab": {
          "base_uri": "https://localhost:8080/"
        },
        "id": "gxWLbTrcSI6a",
        "outputId": "c3f0cd26-2c0b-44bd-ea2b-ac0fcf35e760"
      },
      "outputs": [
        {
          "output_type": "stream",
          "name": "stdout",
          "text": [
            "45\n",
            "the 45 centigrade is equal to 113.0 fahrenheit\n"
          ]
        }
      ],
      "source": [
        "def convert_cent_fah(temp):\n",
        "  return print(f'the {temp} centigrade is equal to {(int(temp)*(9/5))+32} fahrenheit')\n",
        "\n",
        "temperature=int(input())  \n",
        "convert_cent_fah(temperature)"
      ]
    },
    {
      "cell_type": "markdown",
      "source": [
        "#Python program to find the area of a triangle whose sides are given"
      ],
      "metadata": {
        "id": "isA1vP8fTcXi"
      }
    },
    {
      "cell_type": "code",
      "source": [
        "\n",
        "def area_traingle(a,b,c):\n",
        "  import math\n",
        "  s =(a+b+c)/2\n",
        "  area =math.sqrt(s*(s-a)*(s-b)*(s-c))\n",
        "  return f'The area of the traingle {area}'\n",
        "\n",
        "\n",
        "a=float(input(\"Enter the first side \"))\n",
        "b=a=float(input(\"Enter the second side \"))\n",
        "c=a=float(input(\"Enter the third side \"))\n",
        "area_traingle(a,b,c)"
      ],
      "metadata": {
        "colab": {
          "base_uri": "https://localhost:8080/",
          "height": 87
        },
        "id": "mmioG_CCSx-Z",
        "outputId": "858951cf-93cf-4485-93d2-71b5d2e05591"
      },
      "execution_count": 12,
      "outputs": [
        {
          "name": "stdout",
          "output_type": "stream",
          "text": [
            "Enter the first side 15.5\n",
            "Enter the second side 14.8\n",
            "Enter the third side 16.7\n"
          ]
        },
        {
          "output_type": "execute_result",
          "data": {
            "text/plain": [
              "'The area of the traingle 110.78519215129795'"
            ],
            "application/vnd.google.colaboratory.intrinsic+json": {
              "type": "string"
            }
          },
          "metadata": {},
          "execution_count": 12
        }
      ]
    },
    {
      "cell_type": "code",
      "source": [
        "import math\n",
        "a = float(input(\"Enter the length of side a: \"))\n",
        "b = float(input(\"Enter the length of side b: \"))\n",
        "c = float(input(\"Enter the length of side c: \"))\n",
        "s = (a+b+c)/2\n",
        "area = math.sqrt(s*(s-a)*(s-b)*(s-c))\n",
        "print(\" Area of the triangle is: \", area)"
      ],
      "metadata": {
        "colab": {
          "base_uri": "https://localhost:8080/"
        },
        "id": "Z70pWDJ-UGDZ",
        "outputId": "07473469-96bc-4e2b-c1c9-24d2f7099a24"
      },
      "execution_count": 11,
      "outputs": [
        {
          "output_type": "stream",
          "name": "stdout",
          "text": [
            "Enter the length of side a: 15.5\n",
            "Enter the length of side b: 14.8\n",
            "Enter the length of side c: 16.7\n",
            " Area of the triangle is:  105.46127251270961\n"
          ]
        }
      ]
    },
    {
      "cell_type": "markdown",
      "source": [
        "#Python program to find the circumference and area of a circle with a given radius"
      ],
      "metadata": {
        "id": "0q1Amm7GWKW_"
      }
    },
    {
      "cell_type": "code",
      "source": [
        "def circle_area_circum(radius):\n",
        "  return f'The area and circumference of the circel is {2*(math.pi*radius)} and {math.pi*radius**2}'\n",
        "\n",
        "radius =float(input('Enter the radius of the circle: '))\n",
        "circle_area_circum(radius)"
      ],
      "metadata": {
        "colab": {
          "base_uri": "https://localhost:8080/",
          "height": 53
        },
        "id": "9UV1RPYbUanG",
        "outputId": "daff3717-a776-46cf-fad7-2f83bc7cbe00"
      },
      "execution_count": 15,
      "outputs": [
        {
          "name": "stdout",
          "output_type": "stream",
          "text": [
            "Enter the radius of the circle: 15\n"
          ]
        },
        {
          "output_type": "execute_result",
          "data": {
            "text/plain": [
              "'The area and circumference of the circel is 94.24777960769379 and 706.8583470577034'"
            ],
            "application/vnd.google.colaboratory.intrinsic+json": {
              "type": "string"
            }
          },
          "metadata": {},
          "execution_count": 15
        }
      ]
    },
    {
      "cell_type": "markdown",
      "source": [
        "#Python program to check whether the given integer is a multiple of 5"
      ],
      "metadata": {
        "id": "oSIcV4NsXSLK"
      }
    },
    {
      "cell_type": "code",
      "source": [
        "def multiple_5(num):\n",
        "  if num%5==0:\n",
        "    print(f'The given number {num} is multiple of 5')\n",
        "  else:\n",
        "    print(f'The given number {num} is not multiple of 5')\n",
        "\n",
        "number =int(input('Enter the number: '))\n",
        "multiple_5(number)\n"
      ],
      "metadata": {
        "colab": {
          "base_uri": "https://localhost:8080/"
        },
        "id": "7CdL25lDWvUj",
        "outputId": "f6d67054-c9e3-4564-8f11-fe0bebcd0181"
      },
      "execution_count": 17,
      "outputs": [
        {
          "output_type": "stream",
          "name": "stdout",
          "text": [
            "Enter the number: 51\n",
            "The given number 51 is not multiple of 5\n"
          ]
        }
      ]
    },
    {
      "cell_type": "markdown",
      "source": [
        "#Python program to find the average of 10 numbers using while loop"
      ],
      "metadata": {
        "id": "xfhHNZYGYUvK"
      }
    },
    {
      "cell_type": "code",
      "source": [
        "def average_number(count):\n",
        "  counts=0\n",
        "  sum=0\n",
        "  while counts<count:\n",
        "    number=float(input('Enter the number: '))\n",
        "    sum+=number\n",
        "    counts+=1\n",
        "  average = sum/count\n",
        "  print(f'The average of given {count} is {round(average,3)}')\n",
        "\n",
        "count=int(input(\"Enter how many number to take average: \"))\n",
        "average_number(count)\n"
      ],
      "metadata": {
        "colab": {
          "base_uri": "https://localhost:8080/"
        },
        "id": "Lr4jPNn8YJGj",
        "outputId": "5252d56d-582f-4fd2-8a41-48986e2c51a6"
      },
      "execution_count": 20,
      "outputs": [
        {
          "output_type": "stream",
          "name": "stdout",
          "text": [
            "Enter how many number to take average: 4\n",
            "Enter the number: 12.3\n",
            "Enter the number: 15.55\n",
            "Enter the number: 16.5855\n",
            "Enter the number: 15.555\n",
            "The average of given 4 is 14.998\n"
          ]
        }
      ]
    },
    {
      "cell_type": "markdown",
      "source": [
        "#Python program to display the given integer in reverse manner"
      ],
      "metadata": {
        "id": "0R-eD4mias4A"
      }
    },
    {
      "cell_type": "code",
      "source": [
        "def pattern(num):\n",
        "  for i in range(0, num+1):\n",
        "    #for j in (num-i):\n",
        "    print(\"*\"*(num-i), \"\\n\")\n",
        "\n",
        "num = int(input(\"Enter the Number: \"))\n",
        "pattern(num)"
      ],
      "metadata": {
        "colab": {
          "base_uri": "https://localhost:8080/"
        },
        "id": "38Cr0d8ua6Yu",
        "outputId": "df9a2a16-4c62-4504-9a00-34a3ac09d7ec"
      },
      "execution_count": 12,
      "outputs": [
        {
          "output_type": "stream",
          "name": "stdout",
          "text": [
            "Enter the Number: 10\n",
            "********** \n",
            "\n",
            "********* \n",
            "\n",
            "******** \n",
            "\n",
            "******* \n",
            "\n",
            "****** \n",
            "\n",
            "***** \n",
            "\n",
            "**** \n",
            "\n",
            "*** \n",
            "\n",
            "** \n",
            "\n",
            "* \n",
            "\n",
            " \n",
            "\n"
          ]
        }
      ]
    }
  ]
}