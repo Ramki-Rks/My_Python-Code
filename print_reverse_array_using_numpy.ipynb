{
  "nbformat": 4,
  "nbformat_minor": 0,
  "metadata": {
    "colab": {
      "provenance": [],
      "authorship_tag": "ABX9TyNuFOq5lh7KWVxp/h2g7Y1z",
      "include_colab_link": true
    },
    "kernelspec": {
      "name": "python3",
      "display_name": "Python 3"
    },
    "language_info": {
      "name": "python"
    }
  },
  "cells": [
    {
      "cell_type": "markdown",
      "metadata": {
        "id": "view-in-github",
        "colab_type": "text"
      },
      "source": [
        "<a href=\"https://colab.research.google.com/github/Ramki-Rks/My_Python-Code/blob/main/print_reverse_array_using_numpy.ipynb\" target=\"_parent\"><img src=\"https://colab.research.google.com/assets/colab-badge.svg\" alt=\"Open In Colab\"/></a>"
      ]
    },
    {
      "cell_type": "code",
      "source": [
        "arr = input().strip().split(' ')\n",
        "arr"
      ],
      "metadata": {
        "colab": {
          "base_uri": "https://localhost:8080/"
        },
        "id": "GNjrKe8iwULu",
        "outputId": "5160ecd5-94d2-4452-d4fe-3e0d5cb4a5e1"
      },
      "execution_count": 5,
      "outputs": [
        {
          "name": "stdout",
          "output_type": "stream",
          "text": [
            " 8 5 6 21 2 5 8 4 5 \n"
          ]
        },
        {
          "output_type": "execute_result",
          "data": {
            "text/plain": [
              "['8', '5', '6', '21', '2', '5', '8', '4', '5']"
            ]
          },
          "metadata": {},
          "execution_count": 5
        }
      ]
    },
    {
      "cell_type": "code",
      "source": [
        "import numpy as np\n"
      ],
      "metadata": {
        "id": "hPkF8SD63dHJ"
      },
      "execution_count": 13,
      "outputs": []
    },
    {
      "cell_type": "code",
      "source": [
        "def arrays(arr):\n",
        "    # complete this function\n",
        "    # use numpy.array\n",
        "    list_=[]\n",
        "    for i in arr:\n",
        "        list_.append(int(i))\n",
        "    \n",
        "    return np.array(list_[::-1],float)\n",
        "arr = input().strip().split(' ')\n",
        "result = arrays(arr)\n",
        "print(result)"
      ],
      "metadata": {
        "colab": {
          "base_uri": "https://localhost:8080/"
        },
        "id": "kkLloG3Q3b-m",
        "outputId": "968c93bc-4b2a-4465-a96a-d626f8c88419"
      },
      "execution_count": 57,
      "outputs": [
        {
          "output_type": "stream",
          "name": "stdout",
          "text": [
            "2 5 8 6 9 4 2 3\n",
            "[3. 2. 4. 9. 6. 8. 5. 2.]\n"
          ]
        }
      ]
    },
    {
      "cell_type": "code",
      "source": [],
      "metadata": {
        "id": "MrZ09uye9ZZp"
      },
      "execution_count": null,
      "outputs": []
    }
  ]
}