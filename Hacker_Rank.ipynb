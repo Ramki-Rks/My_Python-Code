{
  "nbformat": 4,
  "nbformat_minor": 0,
  "metadata": {
    "colab": {
      "provenance": [],
      "collapsed_sections": [],
      "authorship_tag": "ABX9TyPusWKqNLy0HM/1RUS05179",
      "include_colab_link": true
    },
    "kernelspec": {
      "name": "python3",
      "display_name": "Python 3"
    },
    "language_info": {
      "name": "python"
    }
  },
  "cells": [
    {
      "cell_type": "markdown",
      "metadata": {
        "id": "view-in-github",
        "colab_type": "text"
      },
      "source": [
        "<a href=\"https://colab.research.google.com/github/Ramki-Rks/My_Python-Code/blob/main/Hacker_Rank.ipynb\" target=\"_parent\"><img src=\"https://colab.research.google.com/assets/colab-badge.svg\" alt=\"Open In Colab\"/></a>"
      ]
    },
    {
      "cell_type": "code",
      "execution_count": null,
      "metadata": {
        "colab": {
          "base_uri": "https://localhost:8080/"
        },
        "id": "fepTi5rbiPJ3",
        "outputId": "bb9c25b4-1380-4a28-a4ce-a94ba5d27f33"
      },
      "outputs": [
        {
          "name": "stdout",
          "output_type": "stream",
          "text": [
            "2 5\n"
          ]
        },
        {
          "output_type": "execute_result",
          "data": {
            "text/plain": [
              "['2', ' ', '5']"
            ]
          },
          "metadata": {},
          "execution_count": 2
        }
      ],
      "source": [
        "list_=list(input())\n",
        "list_\n"
      ]
    },
    {
      "cell_type": "code",
      "source": [
        "ss=['1', ' ', '2', ' ', '3', ' ', '4', ' ', '5', ' ', '6']\n",
        "ss[2]\n"
      ],
      "metadata": {
        "colab": {
          "base_uri": "https://localhost:8080/",
          "height": 36
        },
        "id": "oQtd7NBziWS6",
        "outputId": "d4746cee-983e-479a-fb25-fc765ef6f737"
      },
      "execution_count": null,
      "outputs": [
        {
          "output_type": "execute_result",
          "data": {
            "text/plain": [
              "'2'"
            ],
            "application/vnd.google.colaboratory.intrinsic+json": {
              "type": "string"
            }
          },
          "metadata": {},
          "execution_count": 4
        }
      ]
    },
    {
      "cell_type": "code",
      "source": [
        "mm=list(input())\n",
        "mm.split(\" \")"
      ],
      "metadata": {
        "colab": {
          "base_uri": "https://localhost:8080/",
          "height": 209
        },
        "id": "5LyppcTui3Lg",
        "outputId": "6a20ee0e-822f-498e-a9f3-c44815e834cc"
      },
      "execution_count": null,
      "outputs": [
        {
          "name": "stdout",
          "output_type": "stream",
          "text": [
            "5 5 8 5  5 5 2\n"
          ]
        },
        {
          "output_type": "error",
          "ename": "AttributeError",
          "evalue": "ignored",
          "traceback": [
            "\u001b[0;31m---------------------------------------------------------------------------\u001b[0m",
            "\u001b[0;31mAttributeError\u001b[0m                            Traceback (most recent call last)",
            "\u001b[0;32m<ipython-input-6-2d37d21370c3>\u001b[0m in \u001b[0;36m<module>\u001b[0;34m\u001b[0m\n\u001b[1;32m      1\u001b[0m \u001b[0mmm\u001b[0m\u001b[0;34m=\u001b[0m\u001b[0mlist\u001b[0m\u001b[0;34m(\u001b[0m\u001b[0minput\u001b[0m\u001b[0;34m(\u001b[0m\u001b[0;34m)\u001b[0m\u001b[0;34m)\u001b[0m\u001b[0;34m\u001b[0m\u001b[0;34m\u001b[0m\u001b[0m\n\u001b[0;32m----> 2\u001b[0;31m \u001b[0mmm\u001b[0m\u001b[0;34m.\u001b[0m\u001b[0msplit\u001b[0m\u001b[0;34m(\u001b[0m\u001b[0;34m\" \"\u001b[0m\u001b[0;34m)\u001b[0m\u001b[0;34m\u001b[0m\u001b[0;34m\u001b[0m\u001b[0m\n\u001b[0m",
            "\u001b[0;31mAttributeError\u001b[0m: 'list' object has no attribute 'split'"
          ]
        }
      ]
    },
    {
      "cell_type": "code",
      "source": [
        "from collections import Counter"
      ],
      "metadata": {
        "id": "N4AYybCojL2u"
      },
      "execution_count": null,
      "outputs": []
    },
    {
      "cell_type": "code",
      "source": [
        "N=list(input())\n",
        "N"
      ],
      "metadata": {
        "colab": {
          "base_uri": "https://localhost:8080/"
        },
        "id": "ruxyiKfSjvV_",
        "outputId": "b65893d3-496f-4de1-f129-c07d7c31cc21"
      },
      "execution_count": null,
      "outputs": [
        {
          "name": "stdout",
          "output_type": "stream",
          "text": [
            "5 8\n"
          ]
        },
        {
          "output_type": "execute_result",
          "data": {
            "text/plain": [
              "['5', ' ', '8']"
            ]
          },
          "metadata": {},
          "execution_count": 14
        }
      ]
    },
    {
      "cell_type": "code",
      "source": [
        "myList = [1,1,2,3,4,5,3,2,3,4,2,1,2,3]\n",
        "print(Counter(myList))\n"
      ],
      "metadata": {
        "colab": {
          "base_uri": "https://localhost:8080/"
        },
        "id": "df2MQoMhj2-o",
        "outputId": "4ea6e7e9-bb00-41b7-97a5-00fe819088ee"
      },
      "execution_count": null,
      "outputs": [
        {
          "output_type": "stream",
          "name": "stdout",
          "text": [
            "Counter({2: 4, 3: 4, 1: 3, 4: 2, 5: 1})\n"
          ]
        }
      ]
    },
    {
      "cell_type": "code",
      "source": [
        "N=str(input())\n",
        "mn=list(N.split(\" \"))\n",
        "mn"
      ],
      "metadata": {
        "id": "JME1a2aJkKaZ",
        "colab": {
          "base_uri": "https://localhost:8080/"
        },
        "outputId": "098bef3b-d6a1-44b3-d4db-497e8539fe52"
      },
      "execution_count": null,
      "outputs": [
        {
          "name": "stdout",
          "output_type": "stream",
          "text": [
            "5 8 5 4 6 2 8 5 6\n"
          ]
        },
        {
          "output_type": "execute_result",
          "data": {
            "text/plain": [
              "['5', '8', '5', '4', '6', '2', '8', '5', '6']"
            ]
          },
          "metadata": {},
          "execution_count": 8
        }
      ]
    },
    {
      "cell_type": "code",
      "source": [
        "dict_={'5': 4, '8': 2, '6': 1, '3': 3, '7': 2, '9': 2, '1': 1, '2': 1}\n",
        "amount=[]\n",
        "for i in range(3):\n",
        "  customer=(input())\n",
        "  res =  [int(i) for i in customer.split()]\n",
        "  if str(res[0]) in dict_.keys() and dict_.get(str(res[0])) >0 :\n",
        "    amount.append(res[1])\n",
        "    dict_.update({str(res[0]):(dict_.get(str(res[0]))-1)})\n",
        "\n",
        "print(sum(amount))"
      ],
      "metadata": {
        "colab": {
          "base_uri": "https://localhost:8080/"
        },
        "id": "QrvCz4KjtnI7",
        "outputId": "4e37bd91-010d-4280-b9c5-9d411ac6870d"
      },
      "execution_count": null,
      "outputs": [
        {
          "output_type": "stream",
          "name": "stdout",
          "text": [
            "5 55\n",
            "6 66\n",
            "6 55\n",
            "121\n"
          ]
        }
      ]
    },
    {
      "cell_type": "code",
      "source": [
        "customer=(input())\n",
        "res =  [int(i) for i in customer.split()]\n",
        "res[0]"
      ],
      "metadata": {
        "colab": {
          "base_uri": "https://localhost:8080/"
        },
        "id": "CZeq3Kdexs5D",
        "outputId": "11db56ee-7819-4452-911d-f6b1d3ad2f74"
      },
      "execution_count": null,
      "outputs": [
        {
          "name": "stdout",
          "output_type": "stream",
          "text": [
            "5 55\n"
          ]
        },
        {
          "output_type": "execute_result",
          "data": {
            "text/plain": [
              "5"
            ]
          },
          "metadata": {},
          "execution_count": 8
        }
      ]
    },
    {
      "cell_type": "code",
      "source": [
        "dict_={'5': 4, '8': 2, '6': 7, '3': 3, '7': 2, '9': 2, '1': 1, '2': 1}\n",
        "dict_.update({\"6\":7-1})\n",
        "dict_"
      ],
      "metadata": {
        "colab": {
          "base_uri": "https://localhost:8080/"
        },
        "id": "jh9f3UdMyG53",
        "outputId": "a84f16a0-d987-4901-b392-12d3015dc9e4"
      },
      "execution_count": null,
      "outputs": [
        {
          "output_type": "execute_result",
          "data": {
            "text/plain": [
              "{'5': 4, '8': 2, '6': 6, '3': 3, '7': 2, '9': 2, '1': 1, '2': 1}"
            ]
          },
          "metadata": {},
          "execution_count": 3
        }
      ]
    },
    {
      "cell_type": "code",
      "source": [
        "dict_.get(\"6\")>0"
      ],
      "metadata": {
        "id": "WVksiAgjmuuS",
        "colab": {
          "base_uri": "https://localhost:8080/"
        },
        "outputId": "1c0a4ef7-0b62-4f59-80a4-12dde5eb203a"
      },
      "execution_count": null,
      "outputs": [
        {
          "output_type": "execute_result",
          "data": {
            "text/plain": [
              "False"
            ]
          },
          "metadata": {},
          "execution_count": 40
        }
      ]
    },
    {
      "cell_type": "code",
      "source": [
        "'''Raghu is a shoe shop owner. His shop has X number of shoes.\n",
        "He has a list containing the size of each shoe he has in his shop.\n",
        "There are N number of customers who are willing to pay xi amount of money only if they get the shoe of their desired size.\n",
        "Your task is to compute how much money Raghu earned.'''\n",
        "\n",
        "from collections import Counter\n",
        "X= int(input())\n",
        "N=str(input())\n",
        "mn=list(N.split(\" \"))\n",
        "dict_=Counter(mn)\n",
        "number_customer=int(input())\n",
        "amount=[]\n",
        "for i in range(number_customer):\n",
        "  customer=input()\n",
        "  res =  [int(i) for i in customer.split()]\n",
        "  if str(res[0]) in dict_.keys() and dict_.get(str(res[0])) >0 :\n",
        "    amount.append(res[1])\n",
        "    dict_.update({str(res[0]):(dict_.get(str(res[0]))-1)})\n",
        "\n",
        "\n",
        "print(sum(amount))"
      ],
      "metadata": {
        "id": "0DvWfL2rk5LO"
      },
      "execution_count": null,
      "outputs": []
    },
    {
      "cell_type": "code",
      "source": [
        "length_of_string=input()\n",
        "res = [int(i) for i in length_of_string.split()]\n",
        "group_A=[]\n",
        "group_B=[]\n",
        "for i in range(res[0]):\n",
        "  group_A.append(input())\n",
        "for j in range(res[1]):\n",
        "  group_B.append(input())\n",
        "\n",
        "from collections import defaultdict\n",
        "_indices = defaultdict(list)\n",
        "\n",
        "for index, item in enumerate(group_A):\n",
        "      _indices[item].append(str(index+1))\n",
        "for k in group_B:\n",
        "    if k in _indices.keys():\n",
        "      list_A=_indices.get(k)\n",
        "      \n",
        "    print(\" \".join(list_A))"
      ],
      "metadata": {
        "id": "3_5n4nYEmEUP",
        "colab": {
          "base_uri": "https://localhost:8080/"
        },
        "outputId": "8d86c6b8-2551-448f-c43a-7356ee6897a7"
      },
      "execution_count": null,
      "outputs": [
        {
          "output_type": "stream",
          "name": "stdout",
          "text": [
            "5 2\n",
            "a\n",
            "a\n",
            "b\n",
            "a\n",
            "b\n",
            "a\n",
            "b\n",
            "1 2 4\n",
            "3 5\n"
          ]
        }
      ]
    },
    {
      "cell_type": "code",
      "source": [
        "from collections import defaultdict\n",
        "_indices = defaultdict(list)\n",
        "group_B=['a', 'a', 'b', 'a', 'b']\n",
        "for index, item in enumerate(group_A):\n",
        "      _indices[item].append(str(index+1))\n",
        "print(_indices)"
      ],
      "metadata": {
        "colab": {
          "base_uri": "https://localhost:8080/"
        },
        "id": "L1qB3D8jSo6s",
        "outputId": "7e420f9a-d268-46c3-b656-23a0807ce854"
      },
      "execution_count": null,
      "outputs": [
        {
          "output_type": "stream",
          "name": "stdout",
          "text": [
            "defaultdict(<class 'list'>, {'a': ['1', '2', '4'], 'b': ['3', '5']})\n"
          ]
        }
      ]
    },
    {
      "cell_type": "code",
      "source": [
        "from collections import Counter\n",
        "mm=['a', 'a', 'b', 'a', 'b']\n",
        "print(\" \".join(mm))\n",
        "Counter(mm)\n"
      ],
      "metadata": {
        "colab": {
          "base_uri": "https://localhost:8080/"
        },
        "id": "33_j6MOAYhvg",
        "outputId": "7ae1eec3-df1e-44dc-fb64-f62603ad069f"
      },
      "execution_count": null,
      "outputs": [
        {
          "output_type": "stream",
          "name": "stdout",
          "text": [
            "a a b a b\n"
          ]
        },
        {
          "output_type": "execute_result",
          "data": {
            "text/plain": [
              "Counter({'a': 3, 'b': 2})"
            ]
          },
          "metadata": {},
          "execution_count": 2
        }
      ]
    },
    {
      "cell_type": "code",
      "source": [
        "'''This tool computes the cartesian product of input iterables.\n",
        "It is equivalent to nested for-loops.\n",
        "For example, product(A, B) returns the same as ((x,y) for x in A for y in B).'''\n",
        "\n",
        "from itertools import product\n",
        "list_A=input()\n",
        "stored_A=[int(i) for i in list_A.split()]\n",
        "list_B=input()\n",
        "stored_B=[int(i) for i in list_B.split()]\n",
        "mm=list(product(stored_A,stored_B))\n",
        "print(' '.join(str(i) for i in mm))"
      ],
      "metadata": {
        "id": "U3fed-0AgWNT",
        "colab": {
          "base_uri": "https://localhost:8080/"
        },
        "outputId": "6540269e-2f23-48a0-b024-194593f90ba5"
      },
      "execution_count": null,
      "outputs": [
        {
          "output_type": "stream",
          "name": "stdout",
          "text": [
            "5 2 8\n",
            "5 8\n",
            "(5, 5) (5, 8) (2, 5) (2, 8) (8, 5) (8, 8)\n"
          ]
        }
      ]
    },
    {
      "cell_type": "code",
      "source": [
        "list_A=(input())\n",
        "stored_A=[int(i) for i in list_A.split()]\n"
      ],
      "metadata": {
        "colab": {
          "base_uri": "https://localhost:8080/"
        },
        "id": "mfus2WkZ02p3",
        "outputId": "f107335a-3d10-4c05-bb45-fe19781ded85"
      },
      "execution_count": null,
      "outputs": [
        {
          "name": "stdout",
          "output_type": "stream",
          "text": [
            "1 2 3 4 5 6\n"
          ]
        },
        {
          "output_type": "execute_result",
          "data": {
            "text/plain": [
              "[1, 2, 3, 4, 5, 6]"
            ]
          },
          "metadata": {},
          "execution_count": 8
        }
      ]
    },
    {
      "cell_type": "code",
      "source": [
        "'''You are given a string S.\n",
        "Your task is to print all possible permutations of size k of the string in lexicographic sorted order.'''\n",
        "\n",
        "from itertools import permutations\n",
        "string =input()\n",
        "store=string.split()\n",
        "list_=(sorted(list(permutations(store[0],int(store[1])))))\n",
        "result=[]\n",
        "\n",
        "for i in list_:\n",
        " result.append(i[0] + i[1])\n",
        "\n",
        "for k in result:\n",
        "  print(k)\n"
      ],
      "metadata": {
        "colab": {
          "base_uri": "https://localhost:8080/"
        },
        "id": "gBOxz20y04Rs",
        "outputId": "a10dffa1-463f-4955-b975-a9ed715eeb96"
      },
      "execution_count": null,
      "outputs": [
        {
          "output_type": "stream",
          "name": "stdout",
          "text": [
            "HACK 2\n",
            "AC\n",
            "AH\n",
            "AK\n",
            "CA\n",
            "CH\n",
            "CK\n",
            "HA\n",
            "HC\n",
            "HK\n",
            "KA\n",
            "KC\n",
            "KH\n"
          ]
        }
      ]
    },
    {
      "cell_type": "code",
      "source": [
        "result=[]\n",
        "list_=[('A', 'C'), ('A', 'H'), ('A', 'K'), ('C', 'A'), ('C', 'H'), ('C', 'K'), ('H', 'A'), ('H', 'C'), ('H', 'K'), ('K', 'A'), ('K', 'C'), ('K', 'H')]\n",
        "for i in list_:\n",
        " result.append(i[0] + i[1])\n",
        "\n",
        "for k in result:\n",
        "  print(k)\n"
      ],
      "metadata": {
        "colab": {
          "base_uri": "https://localhost:8080/"
        },
        "id": "RJTzKih0NBcM",
        "outputId": "5b9bee9a-02f6-4e08-d3e9-927eb5250fc7"
      },
      "execution_count": null,
      "outputs": [
        {
          "output_type": "stream",
          "name": "stdout",
          "text": [
            "AC\n",
            "AH\n",
            "AK\n",
            "CA\n",
            "CH\n",
            "CK\n",
            "HA\n",
            "HC\n",
            "HK\n",
            "KA\n",
            "KC\n",
            "KH\n"
          ]
        }
      ]
    },
    {
      "cell_type": "code",
      "source": [],
      "metadata": {
        "id": "ZSPkC4PvPLCH"
      },
      "execution_count": null,
      "outputs": []
    }
  ]
}