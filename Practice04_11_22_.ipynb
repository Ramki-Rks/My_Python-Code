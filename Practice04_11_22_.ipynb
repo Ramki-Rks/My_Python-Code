{
  "nbformat": 4,
  "nbformat_minor": 0,
  "metadata": {
    "colab": {
      "provenance": [],
      "authorship_tag": "ABX9TyMqWNjvEgL9NTD73VZdEh2K",
      "include_colab_link": true
    },
    "kernelspec": {
      "name": "python3",
      "display_name": "Python 3"
    },
    "language_info": {
      "name": "python"
    }
  },
  "cells": [
    {
      "cell_type": "markdown",
      "metadata": {
        "id": "view-in-github",
        "colab_type": "text"
      },
      "source": [
        "<a href=\"https://colab.research.google.com/github/Ramkirks/My_Python-Code/blob/main/Practice04_11_22_.ipynb\" target=\"_parent\"><img src=\"https://colab.research.google.com/assets/colab-badge.svg\" alt=\"Open In Colab\"/></a>"
      ]
    },
    {
      "cell_type": "markdown",
      "source": [
        "##find the average of N number"
      ],
      "metadata": {
        "id": "cE0mu-wieVGY"
      }
    },
    {
      "cell_type": "code",
      "execution_count": 2,
      "metadata": {
        "colab": {
          "base_uri": "https://localhost:8080/",
          "height": 140
        },
        "id": "u0C5EC55eKg4",
        "outputId": "fa8e1f3b-0cc3-4049-a3c1-0c8e4eb51536"
      },
      "outputs": [
        {
          "name": "stdout",
          "output_type": "stream",
          "text": [
            "Enter How many number want to do average5\n",
            "Enter the number: 25\n",
            "Enter the number: 66\n",
            "Enter the number: 556\n",
            "Enter the number: 265265\n",
            "Enter the number: 655\n"
          ]
        },
        {
          "output_type": "execute_result",
          "data": {
            "text/plain": [
              "'the average is 53313.4'"
            ],
            "application/vnd.google.colaboratory.intrinsic+json": {
              "type": "string"
            }
          },
          "metadata": {},
          "execution_count": 2
        }
      ],
      "source": [
        "def average(num):\n",
        "  list_of_no=[]\n",
        "  for i in range(num):\n",
        "    number=int(input(\"Enter the number: \"))\n",
        "    list_of_no.append(number)\n",
        "\n",
        "  return f'the average is {sum(list_of_no)/num}'\n",
        "\n",
        "num = int(input(\"Enter How many number want to do average\"))\n",
        "average(num)"
      ]
    },
    {
      "cell_type": "markdown",
      "source": [
        "##Match key values in two dictionaries in Python"
      ],
      "metadata": {
        "id": "wgCMtgTCi4ny"
      }
    },
    {
      "cell_type": "code",
      "source": [
        "x = {\"key1\":1,\"key2\":3,\"key3\":4,\"key4\":6}\n",
        "y={\"key1\":1, \"key3\":4,\"key4\":5}\n",
        "\n",
        "for key, value in set(x.items()) & set(y.items()):\n",
        "  print(\"%s:%s is present in both x and y\" %(key, value))"
      ],
      "metadata": {
        "colab": {
          "base_uri": "https://localhost:8080/"
        },
        "id": "_n015PI9f6uK",
        "outputId": "973f00fd-9c6e-47af-f7d6-68b0dc31ae10"
      },
      "execution_count": 5,
      "outputs": [
        {
          "output_type": "stream",
          "name": "stdout",
          "text": [
            "key1:1 is present in both x and y\n",
            "key3:4 is present in both x and y\n"
          ]
        }
      ]
    },
    {
      "cell_type": "markdown",
      "source": [
        "##Count the values associated with key in a dictionary in Python"
      ],
      "metadata": {
        "id": "RJ7v80yekvi1"
      }
    },
    {
      "cell_type": "code",
      "source": [
        "student = [{\"id\":1,\"success\":True,\"name\":\"Rama\"},{\"id\":2,\"success\":False,\"name\":\"Roja\"},{\"id\":3,\"success\":True,\"name\":\"Raoni\"}]\n",
        "print(sum(i['success'] for i in student))"
      ],
      "metadata": {
        "colab": {
          "base_uri": "https://localhost:8080/"
        },
        "id": "A0Lj8ZNfisew",
        "outputId": "17d2dec5-ce0f-4e65-8fff-2fc02c2c9b95"
      },
      "execution_count": 6,
      "outputs": [
        {
          "output_type": "stream",
          "name": "stdout",
          "text": [
            "2\n"
          ]
        }
      ]
    },
    {
      "cell_type": "code",
      "source": [],
      "metadata": {
        "id": "KWH1YfgdlUeN"
      },
      "execution_count": null,
      "outputs": []
    }
  ]
}