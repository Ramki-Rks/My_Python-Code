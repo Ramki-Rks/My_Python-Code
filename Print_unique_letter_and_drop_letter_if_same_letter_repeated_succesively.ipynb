{
  "nbformat": 4,
  "nbformat_minor": 0,
  "metadata": {
    "colab": {
      "provenance": [],
      "authorship_tag": "ABX9TyN28waT+Lj9AlQ6wA190ujj",
      "include_colab_link": true
    },
    "kernelspec": {
      "name": "python3",
      "display_name": "Python 3"
    },
    "language_info": {
      "name": "python"
    }
  },
  "cells": [
    {
      "cell_type": "markdown",
      "metadata": {
        "id": "view-in-github",
        "colab_type": "text"
      },
      "source": [
        "<a href=\"https://colab.research.google.com/github/Ramki-Rks/My_Python-Code/blob/main/Print_unique_letter_and_drop_letter_if_same_letter_repeated_succesively.ipynb\" target=\"_parent\"><img src=\"https://colab.research.google.com/assets/colab-badge.svg\" alt=\"Open In Colab\"/></a>"
      ]
    },
    {
      "cell_type": "code",
      "execution_count": 1,
      "metadata": {
        "id": "nJkEnynLONWR"
      },
      "outputs": [],
      "source": [
        "from numpy.lib.arraysetops import unique\n",
        "def merge_the_tools(string, k):\n",
        "    # your code goes here\n",
        "    for i in range(0, len(string), k):\n",
        "      line=(string[i:i+k])\n",
        "      seen = set()\n",
        "      for i in line:\n",
        "        if i not in seen:\n",
        "          print(i,end=\"\")\n",
        "          seen.add(i)\n",
        "        #prints a new line\n",
        "      print()\n"
      ]
    },
    {
      "cell_type": "code",
      "source": [
        "merge_the_tools('AABCAAADA', 3)"
      ],
      "metadata": {
        "colab": {
          "base_uri": "https://localhost:8080/"
        },
        "id": "Q25TupFHOuHu",
        "outputId": "d6e68043-4159-407f-ed7a-633173f5f4ee"
      },
      "execution_count": 2,
      "outputs": [
        {
          "output_type": "stream",
          "name": "stdout",
          "text": [
            "AB\n",
            "CA\n",
            "AD\n"
          ]
        }
      ]
    }
  ]
}