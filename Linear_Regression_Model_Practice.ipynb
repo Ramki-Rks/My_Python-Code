{
  "nbformat": 4,
  "nbformat_minor": 0,
  "metadata": {
    "colab": {
      "provenance": [],
      "authorship_tag": "ABX9TyOLrsSXZ4k1xdmc1yxMnBj7",
      "include_colab_link": true
    },
    "kernelspec": {
      "name": "python3",
      "display_name": "Python 3"
    },
    "language_info": {
      "name": "python"
    }
  },
  "cells": [
    {
      "cell_type": "markdown",
      "metadata": {
        "id": "view-in-github",
        "colab_type": "text"
      },
      "source": [
        "<a href=\"https://colab.research.google.com/github/Ramkirks/My_Python-Code/blob/main/Linear_Regression_Model_Practice.ipynb\" target=\"_parent\"><img src=\"https://colab.research.google.com/assets/colab-badge.svg\" alt=\"Open In Colab\"/></a>"
      ]
    },
    {
      "cell_type": "markdown",
      "source": [
        "![linear model.jpg](data:image/jpeg;base64,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)"
      ],
      "metadata": {
        "id": "gsAwaZjSxqiA"
      }
    },
    {
      "cell_type": "code",
      "execution_count": 1,
      "metadata": {
        "id": "DpeFrLfnxlWI"
      },
      "outputs": [],
      "source": [
        "# Importing the libraries\n",
        "import numpy as np\n",
        "import pandas as pd\n",
        "from numpy import math\n",
        "\n",
        "from sklearn.preprocessing import MinMaxScaler\n",
        "from sklearn.model_selection import train_test_split\n",
        "from sklearn.linear_model import LinearRegression\n",
        "from sklearn.metrics import r2_score\n",
        "from sklearn.metrics import mean_squared_error\n",
        "\n",
        "import matplotlib.pyplot as plt"
      ]
    },
    {
      "cell_type": "code",
      "source": [
        "df=pd.DataFrame({'y':[3.8,5.6,6,5,5.8,5.6],'x1':[7.5,12,13.5,16.5,19.5,21],'x2':[6,9,10.5,18,21,25.5]})"
      ],
      "metadata": {
        "id": "3dWvYBiYxyut"
      },
      "execution_count": 5,
      "outputs": []
    },
    {
      "cell_type": "code",
      "source": [
        "df"
      ],
      "metadata": {
        "colab": {
          "base_uri": "https://localhost:8080/",
          "height": 238
        },
        "id": "sOpZCz_gyRy0",
        "outputId": "a65200ab-b578-4cf3-b919-0d1d65e5e07c"
      },
      "execution_count": 6,
      "outputs": [
        {
          "output_type": "execute_result",
          "data": {
            "text/plain": [
              "     y    x1    x2\n",
              "0  3.8   7.5   6.0\n",
              "1  5.6  12.0   9.0\n",
              "2  6.0  13.5  10.5\n",
              "3  5.0  16.5  18.0\n",
              "4  5.8  19.5  21.0\n",
              "5  5.6  21.0  25.5"
            ],
            "text/html": [
              "\n",
              "  <div id=\"df-0e318966-262a-4217-bfc3-37d33c608e73\">\n",
              "    <div class=\"colab-df-container\">\n",
              "      <div>\n",
              "<style scoped>\n",
              "    .dataframe tbody tr th:only-of-type {\n",
              "        vertical-align: middle;\n",
              "    }\n",
              "\n",
              "    .dataframe tbody tr th {\n",
              "        vertical-align: top;\n",
              "    }\n",
              "\n",
              "    .dataframe thead th {\n",
              "        text-align: right;\n",
              "    }\n",
              "</style>\n",
              "<table border=\"1\" class=\"dataframe\">\n",
              "  <thead>\n",
              "    <tr style=\"text-align: right;\">\n",
              "      <th></th>\n",
              "      <th>y</th>\n",
              "      <th>x1</th>\n",
              "      <th>x2</th>\n",
              "    </tr>\n",
              "  </thead>\n",
              "  <tbody>\n",
              "    <tr>\n",
              "      <th>0</th>\n",
              "      <td>3.8</td>\n",
              "      <td>7.5</td>\n",
              "      <td>6.0</td>\n",
              "    </tr>\n",
              "    <tr>\n",
              "      <th>1</th>\n",
              "      <td>5.6</td>\n",
              "      <td>12.0</td>\n",
              "      <td>9.0</td>\n",
              "    </tr>\n",
              "    <tr>\n",
              "      <th>2</th>\n",
              "      <td>6.0</td>\n",
              "      <td>13.5</td>\n",
              "      <td>10.5</td>\n",
              "    </tr>\n",
              "    <tr>\n",
              "      <th>3</th>\n",
              "      <td>5.0</td>\n",
              "      <td>16.5</td>\n",
              "      <td>18.0</td>\n",
              "    </tr>\n",
              "    <tr>\n",
              "      <th>4</th>\n",
              "      <td>5.8</td>\n",
              "      <td>19.5</td>\n",
              "      <td>21.0</td>\n",
              "    </tr>\n",
              "    <tr>\n",
              "      <th>5</th>\n",
              "      <td>5.6</td>\n",
              "      <td>21.0</td>\n",
              "      <td>25.5</td>\n",
              "    </tr>\n",
              "  </tbody>\n",
              "</table>\n",
              "</div>\n",
              "      <button class=\"colab-df-convert\" onclick=\"convertToInteractive('df-0e318966-262a-4217-bfc3-37d33c608e73')\"\n",
              "              title=\"Convert this dataframe to an interactive table.\"\n",
              "              style=\"display:none;\">\n",
              "        \n",
              "  <svg xmlns=\"http://www.w3.org/2000/svg\" height=\"24px\"viewBox=\"0 0 24 24\"\n",
              "       width=\"24px\">\n",
              "    <path d=\"M0 0h24v24H0V0z\" fill=\"none\"/>\n",
              "    <path d=\"M18.56 5.44l.94 2.06.94-2.06 2.06-.94-2.06-.94-.94-2.06-.94 2.06-2.06.94zm-11 1L8.5 8.5l.94-2.06 2.06-.94-2.06-.94L8.5 2.5l-.94 2.06-2.06.94zm10 10l.94 2.06.94-2.06 2.06-.94-2.06-.94-.94-2.06-.94 2.06-2.06.94z\"/><path d=\"M17.41 7.96l-1.37-1.37c-.4-.4-.92-.59-1.43-.59-.52 0-1.04.2-1.43.59L10.3 9.45l-7.72 7.72c-.78.78-.78 2.05 0 2.83L4 21.41c.39.39.9.59 1.41.59.51 0 1.02-.2 1.41-.59l7.78-7.78 2.81-2.81c.8-.78.8-2.07 0-2.86zM5.41 20L4 18.59l7.72-7.72 1.47 1.35L5.41 20z\"/>\n",
              "  </svg>\n",
              "      </button>\n",
              "      \n",
              "  <style>\n",
              "    .colab-df-container {\n",
              "      display:flex;\n",
              "      flex-wrap:wrap;\n",
              "      gap: 12px;\n",
              "    }\n",
              "\n",
              "    .colab-df-convert {\n",
              "      background-color: #E8F0FE;\n",
              "      border: none;\n",
              "      border-radius: 50%;\n",
              "      cursor: pointer;\n",
              "      display: none;\n",
              "      fill: #1967D2;\n",
              "      height: 32px;\n",
              "      padding: 0 0 0 0;\n",
              "      width: 32px;\n",
              "    }\n",
              "\n",
              "    .colab-df-convert:hover {\n",
              "      background-color: #E2EBFA;\n",
              "      box-shadow: 0px 1px 2px rgba(60, 64, 67, 0.3), 0px 1px 3px 1px rgba(60, 64, 67, 0.15);\n",
              "      fill: #174EA6;\n",
              "    }\n",
              "\n",
              "    [theme=dark] .colab-df-convert {\n",
              "      background-color: #3B4455;\n",
              "      fill: #D2E3FC;\n",
              "    }\n",
              "\n",
              "    [theme=dark] .colab-df-convert:hover {\n",
              "      background-color: #434B5C;\n",
              "      box-shadow: 0px 1px 3px 1px rgba(0, 0, 0, 0.15);\n",
              "      filter: drop-shadow(0px 1px 2px rgba(0, 0, 0, 0.3));\n",
              "      fill: #FFFFFF;\n",
              "    }\n",
              "  </style>\n",
              "\n",
              "      <script>\n",
              "        const buttonEl =\n",
              "          document.querySelector('#df-0e318966-262a-4217-bfc3-37d33c608e73 button.colab-df-convert');\n",
              "        buttonEl.style.display =\n",
              "          google.colab.kernel.accessAllowed ? 'block' : 'none';\n",
              "\n",
              "        async function convertToInteractive(key) {\n",
              "          const element = document.querySelector('#df-0e318966-262a-4217-bfc3-37d33c608e73');\n",
              "          const dataTable =\n",
              "            await google.colab.kernel.invokeFunction('convertToInteractive',\n",
              "                                                     [key], {});\n",
              "          if (!dataTable) return;\n",
              "\n",
              "          const docLinkHtml = 'Like what you see? Visit the ' +\n",
              "            '<a target=\"_blank\" href=https://colab.research.google.com/notebooks/data_table.ipynb>data table notebook</a>'\n",
              "            + ' to learn more about interactive tables.';\n",
              "          element.innerHTML = '';\n",
              "          dataTable['output_type'] = 'display_data';\n",
              "          await google.colab.output.renderOutput(dataTable, element);\n",
              "          const docLink = document.createElement('div');\n",
              "          docLink.innerHTML = docLinkHtml;\n",
              "          element.appendChild(docLink);\n",
              "        }\n",
              "      </script>\n",
              "    </div>\n",
              "  </div>\n",
              "  "
            ]
          },
          "metadata": {},
          "execution_count": 6
        }
      ]
    },
    {
      "cell_type": "code",
      "source": [
        "X=df.loc[:,[\"x1\",\"x2\"]]"
      ],
      "metadata": {
        "id": "TB5vsbgzy3ZA"
      },
      "execution_count": 13,
      "outputs": []
    },
    {
      "cell_type": "code",
      "source": [
        "Y=df.loc[:,\"y\"]"
      ],
      "metadata": {
        "id": "PkiOKuoHzwZL"
      },
      "execution_count": 15,
      "outputs": []
    },
    {
      "cell_type": "code",
      "source": [
        "X"
      ],
      "metadata": {
        "colab": {
          "base_uri": "https://localhost:8080/",
          "height": 238
        },
        "id": "9h-p4Z9ezt5P",
        "outputId": "ebfdf0fc-6cb4-46ff-fa5c-28ff6b26be2d"
      },
      "execution_count": 14,
      "outputs": [
        {
          "output_type": "execute_result",
          "data": {
            "text/plain": [
              "     x1    x2\n",
              "0   7.5   6.0\n",
              "1  12.0   9.0\n",
              "2  13.5  10.5\n",
              "3  16.5  18.0\n",
              "4  19.5  21.0\n",
              "5  21.0  25.5"
            ],
            "text/html": [
              "\n",
              "  <div id=\"df-4ac3a70a-f0d1-4e48-a035-9feb233a5b35\">\n",
              "    <div class=\"colab-df-container\">\n",
              "      <div>\n",
              "<style scoped>\n",
              "    .dataframe tbody tr th:only-of-type {\n",
              "        vertical-align: middle;\n",
              "    }\n",
              "\n",
              "    .dataframe tbody tr th {\n",
              "        vertical-align: top;\n",
              "    }\n",
              "\n",
              "    .dataframe thead th {\n",
              "        text-align: right;\n",
              "    }\n",
              "</style>\n",
              "<table border=\"1\" class=\"dataframe\">\n",
              "  <thead>\n",
              "    <tr style=\"text-align: right;\">\n",
              "      <th></th>\n",
              "      <th>x1</th>\n",
              "      <th>x2</th>\n",
              "    </tr>\n",
              "  </thead>\n",
              "  <tbody>\n",
              "    <tr>\n",
              "      <th>0</th>\n",
              "      <td>7.5</td>\n",
              "      <td>6.0</td>\n",
              "    </tr>\n",
              "    <tr>\n",
              "      <th>1</th>\n",
              "      <td>12.0</td>\n",
              "      <td>9.0</td>\n",
              "    </tr>\n",
              "    <tr>\n",
              "      <th>2</th>\n",
              "      <td>13.5</td>\n",
              "      <td>10.5</td>\n",
              "    </tr>\n",
              "    <tr>\n",
              "      <th>3</th>\n",
              "      <td>16.5</td>\n",
              "      <td>18.0</td>\n",
              "    </tr>\n",
              "    <tr>\n",
              "      <th>4</th>\n",
              "      <td>19.5</td>\n",
              "      <td>21.0</td>\n",
              "    </tr>\n",
              "    <tr>\n",
              "      <th>5</th>\n",
              "      <td>21.0</td>\n",
              "      <td>25.5</td>\n",
              "    </tr>\n",
              "  </tbody>\n",
              "</table>\n",
              "</div>\n",
              "      <button class=\"colab-df-convert\" onclick=\"convertToInteractive('df-4ac3a70a-f0d1-4e48-a035-9feb233a5b35')\"\n",
              "              title=\"Convert this dataframe to an interactive table.\"\n",
              "              style=\"display:none;\">\n",
              "        \n",
              "  <svg xmlns=\"http://www.w3.org/2000/svg\" height=\"24px\"viewBox=\"0 0 24 24\"\n",
              "       width=\"24px\">\n",
              "    <path d=\"M0 0h24v24H0V0z\" fill=\"none\"/>\n",
              "    <path d=\"M18.56 5.44l.94 2.06.94-2.06 2.06-.94-2.06-.94-.94-2.06-.94 2.06-2.06.94zm-11 1L8.5 8.5l.94-2.06 2.06-.94-2.06-.94L8.5 2.5l-.94 2.06-2.06.94zm10 10l.94 2.06.94-2.06 2.06-.94-2.06-.94-.94-2.06-.94 2.06-2.06.94z\"/><path d=\"M17.41 7.96l-1.37-1.37c-.4-.4-.92-.59-1.43-.59-.52 0-1.04.2-1.43.59L10.3 9.45l-7.72 7.72c-.78.78-.78 2.05 0 2.83L4 21.41c.39.39.9.59 1.41.59.51 0 1.02-.2 1.41-.59l7.78-7.78 2.81-2.81c.8-.78.8-2.07 0-2.86zM5.41 20L4 18.59l7.72-7.72 1.47 1.35L5.41 20z\"/>\n",
              "  </svg>\n",
              "      </button>\n",
              "      \n",
              "  <style>\n",
              "    .colab-df-container {\n",
              "      display:flex;\n",
              "      flex-wrap:wrap;\n",
              "      gap: 12px;\n",
              "    }\n",
              "\n",
              "    .colab-df-convert {\n",
              "      background-color: #E8F0FE;\n",
              "      border: none;\n",
              "      border-radius: 50%;\n",
              "      cursor: pointer;\n",
              "      display: none;\n",
              "      fill: #1967D2;\n",
              "      height: 32px;\n",
              "      padding: 0 0 0 0;\n",
              "      width: 32px;\n",
              "    }\n",
              "\n",
              "    .colab-df-convert:hover {\n",
              "      background-color: #E2EBFA;\n",
              "      box-shadow: 0px 1px 2px rgba(60, 64, 67, 0.3), 0px 1px 3px 1px rgba(60, 64, 67, 0.15);\n",
              "      fill: #174EA6;\n",
              "    }\n",
              "\n",
              "    [theme=dark] .colab-df-convert {\n",
              "      background-color: #3B4455;\n",
              "      fill: #D2E3FC;\n",
              "    }\n",
              "\n",
              "    [theme=dark] .colab-df-convert:hover {\n",
              "      background-color: #434B5C;\n",
              "      box-shadow: 0px 1px 3px 1px rgba(0, 0, 0, 0.15);\n",
              "      filter: drop-shadow(0px 1px 2px rgba(0, 0, 0, 0.3));\n",
              "      fill: #FFFFFF;\n",
              "    }\n",
              "  </style>\n",
              "\n",
              "      <script>\n",
              "        const buttonEl =\n",
              "          document.querySelector('#df-4ac3a70a-f0d1-4e48-a035-9feb233a5b35 button.colab-df-convert');\n",
              "        buttonEl.style.display =\n",
              "          google.colab.kernel.accessAllowed ? 'block' : 'none';\n",
              "\n",
              "        async function convertToInteractive(key) {\n",
              "          const element = document.querySelector('#df-4ac3a70a-f0d1-4e48-a035-9feb233a5b35');\n",
              "          const dataTable =\n",
              "            await google.colab.kernel.invokeFunction('convertToInteractive',\n",
              "                                                     [key], {});\n",
              "          if (!dataTable) return;\n",
              "\n",
              "          const docLinkHtml = 'Like what you see? Visit the ' +\n",
              "            '<a target=\"_blank\" href=https://colab.research.google.com/notebooks/data_table.ipynb>data table notebook</a>'\n",
              "            + ' to learn more about interactive tables.';\n",
              "          element.innerHTML = '';\n",
              "          dataTable['output_type'] = 'display_data';\n",
              "          await google.colab.output.renderOutput(dataTable, element);\n",
              "          const docLink = document.createElement('div');\n",
              "          docLink.innerHTML = docLinkHtml;\n",
              "          element.appendChild(docLink);\n",
              "        }\n",
              "      </script>\n",
              "    </div>\n",
              "  </div>\n",
              "  "
            ]
          },
          "metadata": {},
          "execution_count": 14
        }
      ]
    },
    {
      "cell_type": "code",
      "source": [
        "Y"
      ],
      "metadata": {
        "colab": {
          "base_uri": "https://localhost:8080/"
        },
        "id": "CaU6TuNFz1go",
        "outputId": "797fcc63-b0a3-4021-8585-28c8278462c5"
      },
      "execution_count": 17,
      "outputs": [
        {
          "output_type": "execute_result",
          "data": {
            "text/plain": [
              "0    3.8\n",
              "1    5.6\n",
              "2    6.0\n",
              "3    5.0\n",
              "4    5.8\n",
              "5    5.6\n",
              "Name: y, dtype: float64"
            ]
          },
          "metadata": {},
          "execution_count": 17
        }
      ]
    },
    {
      "cell_type": "code",
      "source": [
        "# Splitting the dataset into the Training set and Test set\n",
        "X_train, X_test, y_train, y_test = train_test_split(X, Y, test_size = 0.2, random_state = 0)"
      ],
      "metadata": {
        "id": "H--C64rSyxri"
      },
      "execution_count": 18,
      "outputs": []
    },
    {
      "cell_type": "code",
      "source": [
        "# Fitting Multiple Linear Regression to the Training set\n",
        "regressor = LinearRegression()\n",
        "regressor.fit(X_train, y_train)"
      ],
      "metadata": {
        "colab": {
          "base_uri": "https://localhost:8080/"
        },
        "id": "3a8C7oDayW9V",
        "outputId": "5a44c95a-f33d-40a0-8bd8-72dd226969aa"
      },
      "execution_count": 19,
      "outputs": [
        {
          "output_type": "execute_result",
          "data": {
            "text/plain": [
              "LinearRegression()"
            ]
          },
          "metadata": {},
          "execution_count": 19
        }
      ]
    },
    {
      "cell_type": "code",
      "source": [
        "regressor.intercept_"
      ],
      "metadata": {
        "colab": {
          "base_uri": "https://localhost:8080/"
        },
        "id": "F_bhdfps0Afo",
        "outputId": "08c00a7a-98a8-4229-bfcf-3801ad809fb6"
      },
      "execution_count": 20,
      "outputs": [
        {
          "output_type": "execute_result",
          "data": {
            "text/plain": [
              "1.1999999999999993"
            ]
          },
          "metadata": {},
          "execution_count": 20
        }
      ]
    },
    {
      "cell_type": "code",
      "source": [
        "regressor.coef_"
      ],
      "metadata": {
        "colab": {
          "base_uri": "https://localhost:8080/"
        },
        "id": "YDGwARY-06Ae",
        "outputId": "8e84efba-8321-43c5-bbe9-c125d650bab7"
      },
      "execution_count": 33,
      "outputs": [
        {
          "output_type": "execute_result",
          "data": {
            "text/plain": [
              "array([ 0.66666667, -0.4       ])"
            ]
          },
          "metadata": {},
          "execution_count": 33
        }
      ]
    },
    {
      "cell_type": "code",
      "source": [
        "y_pred_train = regressor.predict(X_train)"
      ],
      "metadata": {
        "id": "DsI0WOF00A-7"
      },
      "execution_count": 21,
      "outputs": []
    },
    {
      "cell_type": "code",
      "source": [
        "X_train"
      ],
      "metadata": {
        "colab": {
          "base_uri": "https://localhost:8080/",
          "height": 175
        },
        "id": "33c89icF0LGr",
        "outputId": "fb8f18e7-10b6-450a-aae8-7e4046a59639"
      },
      "execution_count": 23,
      "outputs": [
        {
          "output_type": "execute_result",
          "data": {
            "text/plain": [
              "     x1    x2\n",
              "1  12.0   9.0\n",
              "3  16.5  18.0\n",
              "0   7.5   6.0\n",
              "4  19.5  21.0"
            ],
            "text/html": [
              "\n",
              "  <div id=\"df-f2d459b0-f95c-42b1-8c83-c19f5a97dcfc\">\n",
              "    <div class=\"colab-df-container\">\n",
              "      <div>\n",
              "<style scoped>\n",
              "    .dataframe tbody tr th:only-of-type {\n",
              "        vertical-align: middle;\n",
              "    }\n",
              "\n",
              "    .dataframe tbody tr th {\n",
              "        vertical-align: top;\n",
              "    }\n",
              "\n",
              "    .dataframe thead th {\n",
              "        text-align: right;\n",
              "    }\n",
              "</style>\n",
              "<table border=\"1\" class=\"dataframe\">\n",
              "  <thead>\n",
              "    <tr style=\"text-align: right;\">\n",
              "      <th></th>\n",
              "      <th>x1</th>\n",
              "      <th>x2</th>\n",
              "    </tr>\n",
              "  </thead>\n",
              "  <tbody>\n",
              "    <tr>\n",
              "      <th>1</th>\n",
              "      <td>12.0</td>\n",
              "      <td>9.0</td>\n",
              "    </tr>\n",
              "    <tr>\n",
              "      <th>3</th>\n",
              "      <td>16.5</td>\n",
              "      <td>18.0</td>\n",
              "    </tr>\n",
              "    <tr>\n",
              "      <th>0</th>\n",
              "      <td>7.5</td>\n",
              "      <td>6.0</td>\n",
              "    </tr>\n",
              "    <tr>\n",
              "      <th>4</th>\n",
              "      <td>19.5</td>\n",
              "      <td>21.0</td>\n",
              "    </tr>\n",
              "  </tbody>\n",
              "</table>\n",
              "</div>\n",
              "      <button class=\"colab-df-convert\" onclick=\"convertToInteractive('df-f2d459b0-f95c-42b1-8c83-c19f5a97dcfc')\"\n",
              "              title=\"Convert this dataframe to an interactive table.\"\n",
              "              style=\"display:none;\">\n",
              "        \n",
              "  <svg xmlns=\"http://www.w3.org/2000/svg\" height=\"24px\"viewBox=\"0 0 24 24\"\n",
              "       width=\"24px\">\n",
              "    <path d=\"M0 0h24v24H0V0z\" fill=\"none\"/>\n",
              "    <path d=\"M18.56 5.44l.94 2.06.94-2.06 2.06-.94-2.06-.94-.94-2.06-.94 2.06-2.06.94zm-11 1L8.5 8.5l.94-2.06 2.06-.94-2.06-.94L8.5 2.5l-.94 2.06-2.06.94zm10 10l.94 2.06.94-2.06 2.06-.94-2.06-.94-.94-2.06-.94 2.06-2.06.94z\"/><path d=\"M17.41 7.96l-1.37-1.37c-.4-.4-.92-.59-1.43-.59-.52 0-1.04.2-1.43.59L10.3 9.45l-7.72 7.72c-.78.78-.78 2.05 0 2.83L4 21.41c.39.39.9.59 1.41.59.51 0 1.02-.2 1.41-.59l7.78-7.78 2.81-2.81c.8-.78.8-2.07 0-2.86zM5.41 20L4 18.59l7.72-7.72 1.47 1.35L5.41 20z\"/>\n",
              "  </svg>\n",
              "      </button>\n",
              "      \n",
              "  <style>\n",
              "    .colab-df-container {\n",
              "      display:flex;\n",
              "      flex-wrap:wrap;\n",
              "      gap: 12px;\n",
              "    }\n",
              "\n",
              "    .colab-df-convert {\n",
              "      background-color: #E8F0FE;\n",
              "      border: none;\n",
              "      border-radius: 50%;\n",
              "      cursor: pointer;\n",
              "      display: none;\n",
              "      fill: #1967D2;\n",
              "      height: 32px;\n",
              "      padding: 0 0 0 0;\n",
              "      width: 32px;\n",
              "    }\n",
              "\n",
              "    .colab-df-convert:hover {\n",
              "      background-color: #E2EBFA;\n",
              "      box-shadow: 0px 1px 2px rgba(60, 64, 67, 0.3), 0px 1px 3px 1px rgba(60, 64, 67, 0.15);\n",
              "      fill: #174EA6;\n",
              "    }\n",
              "\n",
              "    [theme=dark] .colab-df-convert {\n",
              "      background-color: #3B4455;\n",
              "      fill: #D2E3FC;\n",
              "    }\n",
              "\n",
              "    [theme=dark] .colab-df-convert:hover {\n",
              "      background-color: #434B5C;\n",
              "      box-shadow: 0px 1px 3px 1px rgba(0, 0, 0, 0.15);\n",
              "      filter: drop-shadow(0px 1px 2px rgba(0, 0, 0, 0.3));\n",
              "      fill: #FFFFFF;\n",
              "    }\n",
              "  </style>\n",
              "\n",
              "      <script>\n",
              "        const buttonEl =\n",
              "          document.querySelector('#df-f2d459b0-f95c-42b1-8c83-c19f5a97dcfc button.colab-df-convert');\n",
              "        buttonEl.style.display =\n",
              "          google.colab.kernel.accessAllowed ? 'block' : 'none';\n",
              "\n",
              "        async function convertToInteractive(key) {\n",
              "          const element = document.querySelector('#df-f2d459b0-f95c-42b1-8c83-c19f5a97dcfc');\n",
              "          const dataTable =\n",
              "            await google.colab.kernel.invokeFunction('convertToInteractive',\n",
              "                                                     [key], {});\n",
              "          if (!dataTable) return;\n",
              "\n",
              "          const docLinkHtml = 'Like what you see? Visit the ' +\n",
              "            '<a target=\"_blank\" href=https://colab.research.google.com/notebooks/data_table.ipynb>data table notebook</a>'\n",
              "            + ' to learn more about interactive tables.';\n",
              "          element.innerHTML = '';\n",
              "          dataTable['output_type'] = 'display_data';\n",
              "          await google.colab.output.renderOutput(dataTable, element);\n",
              "          const docLink = document.createElement('div');\n",
              "          docLink.innerHTML = docLinkHtml;\n",
              "          element.appendChild(docLink);\n",
              "        }\n",
              "      </script>\n",
              "    </div>\n",
              "  </div>\n",
              "  "
            ]
          },
          "metadata": {},
          "execution_count": 23
        }
      ]
    },
    {
      "cell_type": "code",
      "source": [
        "y_pred_train"
      ],
      "metadata": {
        "colab": {
          "base_uri": "https://localhost:8080/"
        },
        "id": "jzAzMHo70H1P",
        "outputId": "f4483598-05a1-4396-b155-696e6931e0fe"
      },
      "execution_count": 22,
      "outputs": [
        {
          "output_type": "execute_result",
          "data": {
            "text/plain": [
              "array([5.6, 5. , 3.8, 5.8])"
            ]
          },
          "metadata": {},
          "execution_count": 22
        }
      ]
    },
    {
      "cell_type": "code",
      "source": [
        "y_pred_test = regressor.predict(X_test)"
      ],
      "metadata": {
        "id": "5wlwiX1Q0JnZ"
      },
      "execution_count": 24,
      "outputs": []
    },
    {
      "cell_type": "code",
      "source": [
        "y_pred_test"
      ],
      "metadata": {
        "colab": {
          "base_uri": "https://localhost:8080/"
        },
        "id": "Mg9LYDEx0ZKs",
        "outputId": "51ae0389-77ec-4d44-995f-c58ec5cdf922"
      },
      "execution_count": 25,
      "outputs": [
        {
          "output_type": "execute_result",
          "data": {
            "text/plain": [
              "array([5., 6.])"
            ]
          },
          "metadata": {},
          "execution_count": 25
        }
      ]
    },
    {
      "cell_type": "code",
      "source": [
        "X_test"
      ],
      "metadata": {
        "colab": {
          "base_uri": "https://localhost:8080/",
          "height": 112
        },
        "id": "c6JnD77h0awK",
        "outputId": "1b5c4b77-f24c-422d-a1e3-0534d0fb0753"
      },
      "execution_count": 26,
      "outputs": [
        {
          "output_type": "execute_result",
          "data": {
            "text/plain": [
              "     x1    x2\n",
              "5  21.0  25.5\n",
              "2  13.5  10.5"
            ],
            "text/html": [
              "\n",
              "  <div id=\"df-5ccf64da-eebe-4477-b8f3-d5bdecd303a2\">\n",
              "    <div class=\"colab-df-container\">\n",
              "      <div>\n",
              "<style scoped>\n",
              "    .dataframe tbody tr th:only-of-type {\n",
              "        vertical-align: middle;\n",
              "    }\n",
              "\n",
              "    .dataframe tbody tr th {\n",
              "        vertical-align: top;\n",
              "    }\n",
              "\n",
              "    .dataframe thead th {\n",
              "        text-align: right;\n",
              "    }\n",
              "</style>\n",
              "<table border=\"1\" class=\"dataframe\">\n",
              "  <thead>\n",
              "    <tr style=\"text-align: right;\">\n",
              "      <th></th>\n",
              "      <th>x1</th>\n",
              "      <th>x2</th>\n",
              "    </tr>\n",
              "  </thead>\n",
              "  <tbody>\n",
              "    <tr>\n",
              "      <th>5</th>\n",
              "      <td>21.0</td>\n",
              "      <td>25.5</td>\n",
              "    </tr>\n",
              "    <tr>\n",
              "      <th>2</th>\n",
              "      <td>13.5</td>\n",
              "      <td>10.5</td>\n",
              "    </tr>\n",
              "  </tbody>\n",
              "</table>\n",
              "</div>\n",
              "      <button class=\"colab-df-convert\" onclick=\"convertToInteractive('df-5ccf64da-eebe-4477-b8f3-d5bdecd303a2')\"\n",
              "              title=\"Convert this dataframe to an interactive table.\"\n",
              "              style=\"display:none;\">\n",
              "        \n",
              "  <svg xmlns=\"http://www.w3.org/2000/svg\" height=\"24px\"viewBox=\"0 0 24 24\"\n",
              "       width=\"24px\">\n",
              "    <path d=\"M0 0h24v24H0V0z\" fill=\"none\"/>\n",
              "    <path d=\"M18.56 5.44l.94 2.06.94-2.06 2.06-.94-2.06-.94-.94-2.06-.94 2.06-2.06.94zm-11 1L8.5 8.5l.94-2.06 2.06-.94-2.06-.94L8.5 2.5l-.94 2.06-2.06.94zm10 10l.94 2.06.94-2.06 2.06-.94-2.06-.94-.94-2.06-.94 2.06-2.06.94z\"/><path d=\"M17.41 7.96l-1.37-1.37c-.4-.4-.92-.59-1.43-.59-.52 0-1.04.2-1.43.59L10.3 9.45l-7.72 7.72c-.78.78-.78 2.05 0 2.83L4 21.41c.39.39.9.59 1.41.59.51 0 1.02-.2 1.41-.59l7.78-7.78 2.81-2.81c.8-.78.8-2.07 0-2.86zM5.41 20L4 18.59l7.72-7.72 1.47 1.35L5.41 20z\"/>\n",
              "  </svg>\n",
              "      </button>\n",
              "      \n",
              "  <style>\n",
              "    .colab-df-container {\n",
              "      display:flex;\n",
              "      flex-wrap:wrap;\n",
              "      gap: 12px;\n",
              "    }\n",
              "\n",
              "    .colab-df-convert {\n",
              "      background-color: #E8F0FE;\n",
              "      border: none;\n",
              "      border-radius: 50%;\n",
              "      cursor: pointer;\n",
              "      display: none;\n",
              "      fill: #1967D2;\n",
              "      height: 32px;\n",
              "      padding: 0 0 0 0;\n",
              "      width: 32px;\n",
              "    }\n",
              "\n",
              "    .colab-df-convert:hover {\n",
              "      background-color: #E2EBFA;\n",
              "      box-shadow: 0px 1px 2px rgba(60, 64, 67, 0.3), 0px 1px 3px 1px rgba(60, 64, 67, 0.15);\n",
              "      fill: #174EA6;\n",
              "    }\n",
              "\n",
              "    [theme=dark] .colab-df-convert {\n",
              "      background-color: #3B4455;\n",
              "      fill: #D2E3FC;\n",
              "    }\n",
              "\n",
              "    [theme=dark] .colab-df-convert:hover {\n",
              "      background-color: #434B5C;\n",
              "      box-shadow: 0px 1px 3px 1px rgba(0, 0, 0, 0.15);\n",
              "      filter: drop-shadow(0px 1px 2px rgba(0, 0, 0, 0.3));\n",
              "      fill: #FFFFFF;\n",
              "    }\n",
              "  </style>\n",
              "\n",
              "      <script>\n",
              "        const buttonEl =\n",
              "          document.querySelector('#df-5ccf64da-eebe-4477-b8f3-d5bdecd303a2 button.colab-df-convert');\n",
              "        buttonEl.style.display =\n",
              "          google.colab.kernel.accessAllowed ? 'block' : 'none';\n",
              "\n",
              "        async function convertToInteractive(key) {\n",
              "          const element = document.querySelector('#df-5ccf64da-eebe-4477-b8f3-d5bdecd303a2');\n",
              "          const dataTable =\n",
              "            await google.colab.kernel.invokeFunction('convertToInteractive',\n",
              "                                                     [key], {});\n",
              "          if (!dataTable) return;\n",
              "\n",
              "          const docLinkHtml = 'Like what you see? Visit the ' +\n",
              "            '<a target=\"_blank\" href=https://colab.research.google.com/notebooks/data_table.ipynb>data table notebook</a>'\n",
              "            + ' to learn more about interactive tables.';\n",
              "          element.innerHTML = '';\n",
              "          dataTable['output_type'] = 'display_data';\n",
              "          await google.colab.output.renderOutput(dataTable, element);\n",
              "          const docLink = document.createElement('div');\n",
              "          docLink.innerHTML = docLinkHtml;\n",
              "          element.appendChild(docLink);\n",
              "        }\n",
              "      </script>\n",
              "    </div>\n",
              "  </div>\n",
              "  "
            ]
          },
          "metadata": {},
          "execution_count": 26
        }
      ]
    },
    {
      "cell_type": "code",
      "metadata": {
        "colab": {
          "base_uri": "https://localhost:8080/"
        },
        "id": "POty7TU9Xpcd",
        "outputId": "a32ca7df-91c2-4a28-edec-912e805675e9"
      },
      "source": [
        "mean_squared_error(y_test, y_pred_test)"
      ],
      "execution_count": 28,
      "outputs": [
        {
          "output_type": "execute_result",
          "data": {
            "text/plain": [
              "0.17999999999999872"
            ]
          },
          "metadata": {},
          "execution_count": 28
        }
      ]
    },
    {
      "cell_type": "code",
      "metadata": {
        "colab": {
          "base_uri": "https://localhost:8080/"
        },
        "id": "XMz4SJpkN0g_",
        "outputId": "f3459e6e-84d1-49b3-9010-d7cdff58a50c"
      },
      "source": [
        "# Train performance\n",
        "math.sqrt(mean_squared_error(y_train, y_pred_train))"
      ],
      "execution_count": 29,
      "outputs": [
        {
          "output_type": "execute_result",
          "data": {
            "text/plain": [
              "1.6616296724220897e-15"
            ]
          },
          "metadata": {},
          "execution_count": 29
        }
      ]
    },
    {
      "cell_type": "code",
      "metadata": {
        "id": "lJUpat5kjCxO",
        "colab": {
          "base_uri": "https://localhost:8080/"
        },
        "outputId": "25dfe7df-fe7d-4fdb-b486-c212c1729e48"
      },
      "source": [
        "# Test performance\n",
        "math.sqrt(mean_squared_error(y_test, y_pred_test))"
      ],
      "execution_count": 30,
      "outputs": [
        {
          "output_type": "execute_result",
          "data": {
            "text/plain": [
              "0.424264068711927"
            ]
          },
          "metadata": {},
          "execution_count": 30
        }
      ]
    },
    {
      "cell_type": "code",
      "metadata": {
        "id": "9ytZKFhyOKQu",
        "outputId": "607e777d-c99c-4a67-98a9-9d3005d3109c",
        "colab": {
          "base_uri": "https://localhost:8080/"
        }
      },
      "source": [
        "r2_score(y_train, y_pred_train)"
      ],
      "execution_count": 31,
      "outputs": [
        {
          "output_type": "execute_result",
          "data": {
            "text/plain": [
              "1.0"
            ]
          },
          "metadata": {},
          "execution_count": 31
        }
      ]
    },
    {
      "cell_type": "code",
      "metadata": {
        "id": "tLCyVe2WjCxO",
        "colab": {
          "base_uri": "https://localhost:8080/"
        },
        "outputId": "558dd686-2fb4-47a3-d761-d15efd4ce652"
      },
      "source": [
        "r2_score(y_test, y_pred_test)"
      ],
      "execution_count": 32,
      "outputs": [
        {
          "output_type": "execute_result",
          "data": {
            "text/plain": [
              "-3.49999999999996"
            ]
          },
          "metadata": {},
          "execution_count": 32
        }
      ]
    },
    {
      "cell_type": "code",
      "source": [],
      "metadata": {
        "id": "851uTBt10v51"
      },
      "execution_count": null,
      "outputs": []
    }
  ]
}