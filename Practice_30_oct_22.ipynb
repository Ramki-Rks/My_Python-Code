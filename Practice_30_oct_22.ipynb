{
  "nbformat": 4,
  "nbformat_minor": 0,
  "metadata": {
    "colab": {
      "provenance": [],
      "authorship_tag": "ABX9TyMdFf0rf9XyXBi8QK9geYwN",
      "include_colab_link": true
    },
    "kernelspec": {
      "name": "python3",
      "display_name": "Python 3"
    },
    "language_info": {
      "name": "python"
    }
  },
  "cells": [
    {
      "cell_type": "markdown",
      "metadata": {
        "id": "view-in-github",
        "colab_type": "text"
      },
      "source": [
        "<a href=\"https://colab.research.google.com/github/Ramkirks/My_Python-Code/blob/main/Practice_30_oct_22.ipynb\" target=\"_parent\"><img src=\"https://colab.research.google.com/assets/colab-badge.svg\" alt=\"Open In Colab\"/></a>"
      ]
    },
    {
      "cell_type": "markdown",
      "source": [
        "#Pattern"
      ],
      "metadata": {
        "id": "tTyEik7lObcC"
      }
    },
    {
      "cell_type": "code",
      "execution_count": 3,
      "metadata": {
        "colab": {
          "base_uri": "https://localhost:8080/"
        },
        "id": "3hN1j4z6NZXO",
        "outputId": "06cef05d-b4f0-486a-8896-808c0d757894"
      },
      "outputs": [
        {
          "output_type": "stream",
          "name": "stdout",
          "text": [
            "Enter the number: 5\n",
            "*\n",
            "**\n",
            "***\n",
            "****\n",
            "*****\n"
          ]
        }
      ],
      "source": [
        "def pattern1(num):\n",
        "  for i in range(1, num+1):\n",
        "    print(\"*\"*i)\n",
        "\n",
        "num=int(input('Enter the number: '))\n",
        "pattern1(num)\n"
      ]
    },
    {
      "cell_type": "code",
      "source": [
        "def pattern2(num):\n",
        "  for i in range(1, num+1):\n",
        "    if i %2 !=0:\n",
        "      print(\"*\"*i)\n",
        "    else:\n",
        "      pass\n",
        "     \n",
        "num=int(input('Enter the number: '))\n",
        "pattern2(num)"
      ],
      "metadata": {
        "colab": {
          "base_uri": "https://localhost:8080/"
        },
        "id": "xvUM1NLnPE05",
        "outputId": "bec3e22a-9480-41b3-b22c-9033a61eb468"
      },
      "execution_count": 8,
      "outputs": [
        {
          "output_type": "stream",
          "name": "stdout",
          "text": [
            "Enter the number: 10\n",
            "*\n",
            "***\n",
            "*****\n",
            "*******\n",
            "*********\n"
          ]
        }
      ]
    },
    {
      "cell_type": "markdown",
      "source": [
        "#Print Letter *E*"
      ],
      "metadata": {
        "id": "tuim7XCyT6hs"
      }
    },
    {
      "cell_type": "code",
      "source": [
        "def pattern3(num):\n",
        "  for i in range(1, num+1):\n",
        "    if i==1 or i==4 or i==7:\n",
        "      print(\"*\"*4)\n",
        "    else:\n",
        "      print(\"*\")\n",
        "\n",
        "\n",
        "\n",
        "num=int(input('Enter the odd number greater than 7: '))\n",
        "pattern3(num)"
      ],
      "metadata": {
        "colab": {
          "base_uri": "https://localhost:8080/"
        },
        "id": "AiNA2lfRP3C1",
        "outputId": "5ddd8e69-f141-4ff1-a642-7a0b1cb4e626"
      },
      "execution_count": 11,
      "outputs": [
        {
          "output_type": "stream",
          "name": "stdout",
          "text": [
            "Enter the number: 7\n",
            "****\n",
            "*\n",
            "*\n",
            "****\n",
            "*\n",
            "*\n",
            "****\n"
          ]
        }
      ]
    },
    {
      "cell_type": "code",
      "source": [
        "def pattern4 (strings):\n",
        "  string =strings\n",
        "  for i in range(1, len(string)+1):\n",
        "    print(string[:i])\n",
        "\n",
        "strings=input('Enter the String in Capiter word')\n",
        "pattern4(strings)"
      ],
      "metadata": {
        "colab": {
          "base_uri": "https://localhost:8080/"
        },
        "id": "HGg42-RmVpfY",
        "outputId": "6bc4e647-71b9-435f-b357-f9e8e21be57c"
      },
      "execution_count": 16,
      "outputs": [
        {
          "output_type": "stream",
          "name": "stdout",
          "text": [
            "Enter the String in Capiter wordRAMAKRISHNAN\n",
            "R\n",
            "RA\n",
            "RAM\n",
            "RAMA\n",
            "RAMAK\n",
            "RAMAKR\n",
            "RAMAKRI\n",
            "RAMAKRIS\n",
            "RAMAKRISH\n",
            "RAMAKRISHN\n",
            "RAMAKRISHNA\n",
            "RAMAKRISHNAN\n"
          ]
        }
      ]
    },
    {
      "cell_type": "code",
      "source": [],
      "metadata": {
        "id": "CEWQVII7bfXf"
      },
      "execution_count": null,
      "outputs": []
    }
  ]
}