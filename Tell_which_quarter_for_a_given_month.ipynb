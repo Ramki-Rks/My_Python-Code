{
  "nbformat": 4,
  "nbformat_minor": 0,
  "metadata": {
    "colab": {
      "provenance": [],
      "authorship_tag": "ABX9TyM5rcktS0jPPsMcjEI7jcV7",
      "include_colab_link": true
    },
    "kernelspec": {
      "name": "python3",
      "display_name": "Python 3"
    },
    "language_info": {
      "name": "python"
    }
  },
  "cells": [
    {
      "cell_type": "markdown",
      "metadata": {
        "id": "view-in-github",
        "colab_type": "text"
      },
      "source": [
        "<a href=\"https://colab.research.google.com/github/Ramki-Rks/My_Python-Code/blob/main/Tell_which_quarter_for_a_given_month.ipynb\" target=\"_parent\"><img src=\"https://colab.research.google.com/assets/colab-badge.svg\" alt=\"Open In Colab\"/></a>"
      ]
    },
    {
      "cell_type": "code",
      "execution_count": 1,
      "metadata": {
        "id": "lZpKCvFZ1eU7"
      },
      "outputs": [],
      "source": [
        "def quarterdate (date):\n",
        "  date_year=date[:4]\n",
        "  date_month=date[5:7]\n",
        "  if '01'<=date_month<='03':\n",
        "    quarter= date_year+ '-Q1'\n",
        "  elif '04'<=date_month<='06':\n",
        "     quarter=date_year +'-Q2'\n",
        "  elif '07'<=date_month<='09':\n",
        "     quarter=date_year + '-Q3'\n",
        "  else:\n",
        "     quarter=date_year +'-Q4'\n",
        "  #print(f'the corresponding quarter for the year {date} is {quarter}')\n",
        "  return quarter"
      ]
    },
    {
      "cell_type": "code",
      "execution_count": 3,
      "metadata": {
        "colab": {
          "base_uri": "https://localhost:8080/"
        },
        "id": "yT27sYyO6ksE",
        "outputId": "49b0b53d-1788-4aa3-edc7-9c05efa7002e"
      },
      "outputs": [
        {
          "output_type": "stream",
          "name": "stdout",
          "text": [
            "yyyy-mm-dd2022-10-16\n",
            "2022-Q4\n"
          ]
        }
      ],
      "source": [
        "given=(input('yyyy-mm-dd'))\n",
        "print(quarterdate(given))"
      ]
    },
    {
      "cell_type": "code",
      "source": [],
      "metadata": {
        "id": "3OVA8Cwfknq_"
      },
      "execution_count": null,
      "outputs": []
    }
  ]
}