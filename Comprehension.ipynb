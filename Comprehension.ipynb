{
  "nbformat": 4,
  "nbformat_minor": 0,
  "metadata": {
    "colab": {
      "provenance": [],
      "collapsed_sections": [],
      "authorship_tag": "ABX9TyNpYPkQoqO790NpeYJJEuBw",
      "include_colab_link": true
    },
    "kernelspec": {
      "name": "python3",
      "display_name": "Python 3"
    },
    "language_info": {
      "name": "python"
    }
  },
  "cells": [
    {
      "cell_type": "markdown",
      "metadata": {
        "id": "view-in-github",
        "colab_type": "text"
      },
      "source": [
        "<a href=\"https://colab.research.google.com/github/Ramki-Rks/My_Python-Code/blob/main/Comprehension.ipynb\" target=\"_parent\"><img src=\"https://colab.research.google.com/assets/colab-badge.svg\" alt=\"Open In Colab\"/></a>"
      ]
    },
    {
      "cell_type": "code",
      "metadata": {
        "id": "WbcIox50gTyl"
      },
      "source": [
        "country_city_list = [('India','New Delhi'),('Australia','Canberra'),('United States','Washington DC'),('England','London')]"
      ],
      "execution_count": 2,
      "outputs": []
    },
    {
      "cell_type": "code",
      "metadata": {
        "id": "gMBUnrnYg5E3",
        "colab": {
          "base_uri": "https://localhost:8080/"
        },
        "outputId": "6817d2d5-177a-4bbe-f836-82f4a44f63d4"
      },
      "source": [
        "# Lets convert the list of tuples to a dictionary\n",
        "country_city_dict = dict(country_city_list)\n",
        "print(country_city_dict)"
      ],
      "execution_count": 3,
      "outputs": [
        {
          "output_type": "stream",
          "name": "stdout",
          "text": [
            "{'India': 'New Delhi', 'Australia': 'Canberra', 'United States': 'Washington DC', 'England': 'London'}\n"
          ]
        }
      ]
    },
    {
      "cell_type": "code",
      "metadata": {
        "id": "Aj5bq4ZKEZdz",
        "colab": {
          "base_uri": "https://localhost:8080/"
        },
        "outputId": "74cc45dd-fc64-4d63-e02e-c3bd5a082668"
      },
      "source": [
        "# The conventional for loop approach\n",
        "flipped = {}\n",
        "for country, city in country_city_dict.items():\n",
        "    flipped[city] = country\n",
        "\n",
        "print(flipped)"
      ],
      "execution_count": 4,
      "outputs": [
        {
          "output_type": "stream",
          "name": "stdout",
          "text": [
            "{'New Delhi': 'India', 'Canberra': 'Australia', 'Washington DC': 'United States', 'London': 'England'}\n"
          ]
        }
      ]
    },
    {
      "cell_type": "code",
      "metadata": {
        "id": "NCxRPqGdEZR9",
        "colab": {
          "base_uri": "https://localhost:8080/"
        },
        "outputId": "94a40d4f-9d99-4a61-cc49-0ca4f14a21a6"
      },
      "source": [
        "# The new dictionary comprehension\n",
        "flipped = {city:country for country, city in country_city_dict.items()}\n",
        "print(flipped)"
      ],
      "execution_count": 5,
      "outputs": [
        {
          "output_type": "stream",
          "name": "stdout",
          "text": [
            "{'New Delhi': 'India', 'Canberra': 'Australia', 'Washington DC': 'United States', 'London': 'England'}\n"
          ]
        }
      ]
    }
  ]
}