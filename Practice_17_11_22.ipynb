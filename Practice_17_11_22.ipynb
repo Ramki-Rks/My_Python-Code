{
  "nbformat": 4,
  "nbformat_minor": 0,
  "metadata": {
    "colab": {
      "provenance": [],
      "authorship_tag": "ABX9TyPrXAfZQEhsjxQwGpUzllU5",
      "include_colab_link": true
    },
    "kernelspec": {
      "name": "python3",
      "display_name": "Python 3"
    },
    "language_info": {
      "name": "python"
    }
  },
  "cells": [
    {
      "cell_type": "markdown",
      "metadata": {
        "id": "view-in-github",
        "colab_type": "text"
      },
      "source": [
        "<a href=\"https://colab.research.google.com/github/Ramkirks/My_Python-Code/blob/main/Practice_17_11_22.ipynb\" target=\"_parent\"><img src=\"https://colab.research.google.com/assets/colab-badge.svg\" alt=\"Open In Colab\"/></a>"
      ]
    },
    {
      "cell_type": "markdown",
      "source": [
        "##Given Number is prime or not\n",
        "\n",
        "\n",
        "\n",
        "\n"
      ],
      "metadata": {
        "id": "tVAgHS7opgfo"
      }
    },
    {
      "cell_type": "code",
      "execution_count": 10,
      "metadata": {
        "colab": {
          "base_uri": "https://localhost:8080/"
        },
        "id": "2cOwSKqApZYq",
        "outputId": "9236ff54-9374-4a89-ac5b-30566b4cce59"
      },
      "outputs": [
        {
          "output_type": "stream",
          "name": "stdout",
          "text": [
            "Enter the Real Number: 23\n",
            "23 is  prime number\n"
          ]
        }
      ],
      "source": [
        "num=int(input(\"Enter the Real Number: \"))\n",
        "\n",
        "if num>1:\n",
        "  \n",
        "  for i in range(2, int(num/2)+1):\n",
        "    if num%i ==0:\n",
        "      \n",
        "      print(f\"{num} is not prime number\")\n",
        "      break\n",
        "  else:\n",
        "    print(f\"{num} is  prime number\")\n",
        "else:\n",
        "  print(f\"{num} is  not prime number\")\n"
      ]
    },
    {
      "cell_type": "code",
      "source": [
        "2"
      ],
      "metadata": {
        "id": "yQs5BQGQqZma"
      },
      "execution_count": null,
      "outputs": []
    }
  ]
}