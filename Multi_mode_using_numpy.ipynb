{
  "nbformat": 4,
  "nbformat_minor": 0,
  "metadata": {
    "colab": {
      "provenance": [],
      "authorship_tag": "ABX9TyNE+I0A0iaGy2SmiA2jzJIB",
      "include_colab_link": true
    },
    "kernelspec": {
      "name": "python3",
      "display_name": "Python 3"
    },
    "language_info": {
      "name": "python"
    }
  },
  "cells": [
    {
      "cell_type": "markdown",
      "metadata": {
        "id": "view-in-github",
        "colab_type": "text"
      },
      "source": [
        "<a href=\"https://colab.research.google.com/github/Ramki-Rks/My_Python-Code/blob/main/Multi_mode_using_numpy.ipynb\" target=\"_parent\"><img src=\"https://colab.research.google.com/assets/colab-badge.svg\" alt=\"Open In Colab\"/></a>"
      ]
    },
    {
      "cell_type": "markdown",
      "source": [
        "A function which calculates the mode of a list of numbers. If there are two modes in the dataset, it should return both."
      ],
      "metadata": {
        "id": "MrtRsHxp47yb"
      }
    },
    {
      "cell_type": "code",
      "metadata": {
        "id": "ZQDOGM_j9pOw"
      },
      "source": [
        "import numpy as np\n",
        "def multi_mode_compatible(my_array):\n",
        "  unique_elements,frequency = np.unique(my_array, return_counts = True)\n",
        "  return unique_elements[np.where(frequency==frequency.max())[0]].tolist()"
      ],
      "execution_count": 1,
      "outputs": []
    },
    {
      "cell_type": "code",
      "metadata": {
        "id": "oxzy_M4a9qhj",
        "colab": {
          "base_uri": "https://localhost:8080/"
        },
        "outputId": "8e45ef42-112c-4df8-ed20-758f9d7506cb"
      },
      "source": [
        "print(\"Mode(s): \", multi_mode_compatible(np.array([1,1,1,2,2,3,3,4,4,4,5,5,5])))"
      ],
      "execution_count": 2,
      "outputs": [
        {
          "output_type": "stream",
          "name": "stdout",
          "text": [
            "Mode(s):  [1, 4, 5]\n"
          ]
        }
      ]
    }
  ]
}